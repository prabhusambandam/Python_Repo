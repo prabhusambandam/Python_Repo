{
 "cells": [
  {
   "cell_type": "markdown",
   "metadata": {},
   "source": [
    "### The questions for the exercises are given above the cells and the expected output is given below the cell. Please type the code inserting a new cell below the question because if you run the expected output cell the output would vanish! Happy learning! "
   ]
  },
  {
   "cell_type": "markdown",
   "metadata": {},
   "source": [
    "## Exercise Question 1: Given a list1 copy the list1 to another list2 and remove the element at index 6 and add it to the 2nd position and also, at the end of the list2, finally remove the last element from list 1"
   ]
  },
  {
   "cell_type": "code",
   "execution_count": 20,
   "metadata": {},
   "outputs": [
    {
     "name": "stdout",
     "output_type": "stream",
     "text": [
      "Original list   [34, 54, 67, 89, 11, 43, 94]\n",
      "List After removing element at index 4   [34, 54, 67, 89, 43, 94]\n",
      "List after Adding element at index 2   [34, 54, 11, 67, 89, 43, 94]\n",
      "List after Adding element at last   [34, 54, 11, 67, 89, 43, 94, 94]\n",
      "Removing last element from the original list [34, 54, 11, 67, 89, 43, 94]\n"
     ]
    }
   ],
   "source": [
    "lst1=[34, 54, 67, 89, 11, 43, 94]\n",
    "print('Original list  ',lst1)\n",
    "lst2= lst1.copy()\n",
    "lst3 = lst2.pop(4)\n",
    "print('List After removing element at index 4  ',lst2)\n",
    "lst2.insert(2,lst3)\n",
    "print('List after Adding element at index 2  ', lst2)\n",
    "lst2.append(94)\n",
    "print('List after Adding element at last  ',lst2)\n",
    "lst2.pop()\n",
    "print('Removing last element from the original list',lst2)"
   ]
  },
  {
   "cell_type": "code",
   "execution_count": 2,
   "metadata": {},
   "outputs": [
    {
     "name": "stdout",
     "output_type": "stream",
     "text": [
      "Original list  [34, 54, 67, 89, 11, 43, 94]\n",
      "List After removing element at index 4  [34, 54, 67, 89, 43, 94]\n",
      "List after Adding element at index 2  [34, 54, 11, 67, 89, 43, 94]\n",
      "List after Adding element at last  [34, 54, 11, 67, 89, 43, 94, 11]\n",
      "Removing last element from the original list  [34, 54, 67, 89, 11, 43]\n"
     ]
    }
   ],
   "source": []
  },
  {
   "cell_type": "markdown",
   "metadata": {},
   "source": [
    "## Exercise Question 2: Given a two list of equal size create a list of unique elements from both the lists into a seperate list"
   ]
  },
  {
   "cell_type": "code",
   "execution_count": 26,
   "metadata": {},
   "outputs": [
    {
     "name": "stdout",
     "output_type": "stream",
     "text": [
      "First List   [2, 3, 4, 5, 6, 7, 8]\n",
      "Second List   [4, 9, 16, 25, 36, 49, 64]\n",
      "{64, 2, 3, 4, 5, 6, 7, 8, 9, 36, 16, 49, 25}\n"
     ]
    }
   ],
   "source": [
    "lst1=[2, 3, 4, 5, 6, 7, 8]\n",
    "print('First List  ',lst1)\n",
    "lst2=[4, 9, 16, 25, 36, 49, 64]\n",
    "print('Second List  ',lst2)\n",
    "lst1.extend(lst2)\n",
    "lst3 = lst1\n",
    "lst3 = set(lst3)\n",
    "print(lst3)"
   ]
  },
  {
   "cell_type": "code",
   "execution_count": 10,
   "metadata": {
    "scrolled": true
   },
   "outputs": [
    {
     "name": "stdout",
     "output_type": "stream",
     "text": [
      "First List  [2, 3, 4, 5, 6, 7, 8]\n",
      "Second List  [4, 9, 16, 25, 36, 49, 64]\n",
      "[64, 2, 3, 4, 5, 6, 7, 8, 9, 36, 16, 49, 25]\n"
     ]
    }
   ],
   "source": []
  },
  {
   "cell_type": "markdown",
   "metadata": {},
   "source": [
    "## Exercise Question 3: Remove duplicate from a list and create a tuple and find the minimum and maximum number (Hint: Try Functions Min() and Max() ) "
   ]
  },
  {
   "cell_type": "code",
   "execution_count": 31,
   "metadata": {},
   "outputs": [
    {
     "name": "stdout",
     "output_type": "stream",
     "text": [
      "Original list  [87, 52, 44, 53, 54, 87, 52, 53]\n",
      "unique list  (44, 52, 53, 54, 87)\n",
      "Minimum number is:   44\n",
      "Maximum number is:   87\n"
     ]
    }
   ],
   "source": [
    "lst1=[87, 52, 44, 53, 54, 87, 52, 53]\n",
    "print('Original list ',lst1)\n",
    "unique_lst=tuple(set(lst1))\n",
    "print('unique list ',unique_lst)\n",
    "print('Minimum number is:  ',min(unique_lst))\n",
    "print('Maximum number is:  ',max(unique_lst))"
   ]
  },
  {
   "cell_type": "code",
   "execution_count": 11,
   "metadata": {},
   "outputs": [
    {
     "name": "stdout",
     "output_type": "stream",
     "text": [
      "Original list [87, 52, 44, 53, 54, 87, 52, 53]\n",
      "unique list [44, 52, 53, 54, 87]\n",
      "tuple  (44, 52, 53, 54, 87)\n",
      "Minimum number is:  44\n",
      "Maximum number is:  87\n"
     ]
    }
   ],
   "source": []
  },
  {
   "cell_type": "markdown",
   "metadata": {},
   "source": [
    "## Exercise Question 4: Display the each word in the string Count the number of words in a string and display it (Including the white spaces) "
   ]
  },
  {
   "cell_type": "code",
   "execution_count": 19,
   "metadata": {},
   "outputs": [
    {
     "name": "stdout",
     "output_type": "stream",
     "text": [
      "w h a t ' s   u p ?\n"
     ]
    }
   ],
   "source": [
    "#Printing each words seperately \n",
    "a = \"what's up?\"\n",
    "print(*a)"
   ]
  },
  {
   "cell_type": "code",
   "execution_count": 34,
   "metadata": {},
   "outputs": [
    {
     "name": "stdout",
     "output_type": "stream",
     "text": [
      "The sample string:  Welcome to Python\n",
      "Printing each words seperately:   W e l c o m e   t o   P y t h o n\n",
      "The Length of the string  17\n"
     ]
    }
   ],
   "source": [
    "input_str=\"Welcome to Python\"\n",
    "print('The sample string: ',input_str)\n",
    "print('Printing each words seperately:  ',(*input_str))\n",
    "print('The Length of the string ', len(input_str))"
   ]
  },
  {
   "cell_type": "code",
   "execution_count": 18,
   "metadata": {},
   "outputs": [
    {
     "name": "stdout",
     "output_type": "stream",
     "text": [
      "The sample string: Welcome to Python\n",
      "Printing each words seperately:  W e l c o m e   t o   P y t h o n\n",
      "The Length of the string 17\n"
     ]
    }
   ],
   "source": []
  },
  {
   "cell_type": "markdown",
   "metadata": {},
   "source": [
    "##  Exercise Question 5: Write a Python program to access dictionary keys element by index. i.e. Use indexing methods to print the first key"
   ]
  },
  {
   "cell_type": "code",
   "execution_count": 37,
   "metadata": {},
   "outputs": [
    {
     "name": "stdout",
     "output_type": "stream",
     "text": [
      "The dictionary is:   {'physics': 80, 'math': 90, 'chemistry': 86}\n",
      "The key element accesed by index:   physics\n"
     ]
    }
   ],
   "source": [
    "dict_1= {'physics': 80, 'math': 90, 'chemistry': 86}\n",
    "print('The dictionary is:  ',dict_1)\n",
    "print('The key element accesed by index:  ', list(dict_1)[0])"
   ]
  },
  {
   "cell_type": "code",
   "execution_count": 36,
   "metadata": {},
   "outputs": [
    {
     "name": "stdout",
     "output_type": "stream",
     "text": [
      "The dictionary is:   {'physics': 80, 'math': 90, 'chemistry': 86}\n",
      "The key element accesed by index:   physics\n"
     ]
    }
   ],
   "source": []
  }
 ],
 "metadata": {
  "kernelspec": {
   "display_name": "Python 3",
   "language": "python",
   "name": "python3"
  },
  "language_info": {
   "codemirror_mode": {
    "name": "ipython",
    "version": 3
   },
   "file_extension": ".py",
   "mimetype": "text/x-python",
   "name": "python",
   "nbconvert_exporter": "python",
   "pygments_lexer": "ipython3",
   "version": "3.7.6"
  }
 },
 "nbformat": 4,
 "nbformat_minor": 4
}
