{
 "cells": [
  {
   "cell_type": "markdown",
   "metadata": {},
   "source": [
    "## Conditional loops if,else,elif\n",
    "1)  Check for the condition: if Satisfied --> Executes the statements \n",
    "2)  Check for the condition: else Not satisfied --> Execute the else statements  \n",
    "    - Equals: a == b\n",
    "    - Not Equal: !, a != b\n",
    "    - Less than: a < b \n",
    "    - Greater than: a > b\n",
    "    - Greater than or equal to: a >= b\n",
    "Most commonly in \"If Statements\" "
   ]
  },
  {
   "cell_type": "markdown",
   "metadata": {},
   "source": [
    "## Syntax: for if\n",
    "':' - is a part of the syntax. Very important\n",
    "- tab space is very important for an if statement \n",
    "    What ever comes within this tab is considered to be a part of the if\n",
    "    \n",
    "Absence of tab or indentation results in \n",
    "\n",
    "- IndentationError: expected an indented block"
   ]
  },
  {
   "cell_type": "code",
   "execution_count": 5,
   "metadata": {},
   "outputs": [
    {
     "name": "stdout",
     "output_type": "stream",
     "text": [
      "enter a name: balamurugan\n",
      "200\n",
      "Hello  balamurugan\n"
     ]
    }
   ],
   "source": [
    "name = input(\"enter a name: \")\n",
    "if name == \"balamurugan\":\n",
    "    a = 10 \n",
    "    b = 20 \n",
    "    c = a*b\n",
    "    print(c)\n",
    "    print(\"Hello \",name)\n",
    "else: \n",
    "    print(\"Your name is:\",name)\n",
    "    print(\"Your name is not balamurugan\")"
   ]
  },
  {
   "cell_type": "code",
   "execution_count": null,
   "metadata": {},
   "outputs": [],
   "source": []
  },
  {
   "cell_type": "markdown",
   "metadata": {},
   "source": [
    "## ELIF"
   ]
  },
  {
   "cell_type": "code",
   "execution_count": 8,
   "metadata": {},
   "outputs": [
    {
     "name": "stdout",
     "output_type": "stream",
     "text": [
      "Enter the number1: 50 \n",
      "Enter the number2: 50\n",
      "century\n"
     ]
    }
   ],
   "source": [
    "a = int(input(\"Enter the number1: \"))\n",
    "b = int(input(\"Enter the number2: \"))\n",
    "sum_ = a+b\n",
    "if(sum_ <= 20):\n",
    "    print(\"Less than 20\")\n",
    "elif(sum_ == 100):\n",
    "    print(\"century\")\n",
    "elif(sum_ == 75):\n",
    "    print(\"3/4th of 100\")\n",
    "else:\n",
    "    print(\"Nothing above is the sum!\")"
   ]
  },
  {
   "cell_type": "markdown",
   "metadata": {},
   "source": [
    "#### Write a student grade checker: \n",
    "#### A grade -> the mark greater or equal than 90\n",
    "#### B grade -> the mark is between 70 (inclusive) and 90 (not inclusive)\n",
    "#### C grade -> the mark is less than 70 (not inclusive)\n",
    "\n",
    "- input: \n",
    "    1) 90 \n",
    "    2) 75\n",
    "    3) 65\n",
    "- Expected Output: \n",
    "    1) A \n",
    "    2) B \n",
    "    3) C\n",
    "    \n",
    "    \n",
    "and - &\n",
    "or - |\n",
    "not - ~"
   ]
  },
  {
   "cell_type": "markdown",
   "metadata": {},
   "source": [
    "## Shortcut for if-else"
   ]
  },
  {
   "cell_type": "code",
   "execution_count": 11,
   "metadata": {},
   "outputs": [
    {
     "name": "stdout",
     "output_type": "stream",
     "text": [
      "A is bigger than b\n"
     ]
    }
   ],
   "source": [
    "a = 100 \n",
    "b = 20 \n",
    "if a > b:print(\"A is bigger than b\")"
   ]
  },
  {
   "cell_type": "code",
   "execution_count": 13,
   "metadata": {},
   "outputs": [
    {
     "name": "stdout",
     "output_type": "stream",
     "text": [
      "A is bigger than b\n"
     ]
    }
   ],
   "source": [
    "a = 100 \n",
    "b = 20 \n",
    "print(\"A is bigger than b\") if a > b else print(\"B is bigger\") "
   ]
  },
  {
   "cell_type": "code",
   "execution_count": 14,
   "metadata": {},
   "outputs": [
    {
     "name": "stdout",
     "output_type": "stream",
     "text": [
      "India Won\n"
     ]
    }
   ],
   "source": [
    "dhoni = 50 \n",
    "Kholi = 60 \n",
    "Rohit = 10\n",
    "if(dhoni > 30) and (Kholi > 20):\n",
    "    print(\"India Won\")\n",
    "else: \n",
    "    print(\"India Lost\")"
   ]
  },
  {
   "cell_type": "markdown",
   "metadata": {},
   "source": [
    "## Nested if"
   ]
  },
  {
   "cell_type": "code",
   "execution_count": 15,
   "metadata": {},
   "outputs": [
    {
     "name": "stdout",
     "output_type": "stream",
     "text": [
      "Inside Loop 1\n",
      "Inside Loop 2\n",
      "Inside Loop 3\n"
     ]
    }
   ],
   "source": [
    "a = 10\n",
    "b = 12\n",
    "c = 19\n",
    "if a > 5: \n",
    "    print(\"Inside Loop 1\")\n",
    "    if b > 10:\n",
    "        print(\"Inside Loop 2\")\n",
    "        if c > 15: \n",
    "            print(\"Inside Loop 3\")"
   ]
  },
  {
   "cell_type": "markdown",
   "metadata": {},
   "source": [
    "Inside an if: PASS is used to avoid errors."
   ]
  },
  {
   "cell_type": "code",
   "execution_count": 19,
   "metadata": {},
   "outputs": [],
   "source": [
    "if a > 5: \n",
    "    pass"
   ]
  },
  {
   "cell_type": "markdown",
   "metadata": {},
   "source": [
    "## For and While Loops\n",
    "- Loop - repeated actions \n",
    "- Iteration\n",
    "- Set of statements repeatedliy executed\n",
    "- continuous running of something\n",
    "- endless\n",
    "- Circular\n",
    "\n",
    "These are also called as primitive loops"
   ]
  },
  {
   "cell_type": "code",
   "execution_count": 2,
   "metadata": {},
   "outputs": [],
   "source": [
    "j = 0 "
   ]
  },
  {
   "cell_type": "code",
   "execution_count": 3,
   "metadata": {
    "scrolled": false
   },
   "outputs": [
    {
     "name": "stdout",
     "output_type": "stream",
     "text": [
      "0\n",
      "1\n",
      "2\n",
      "3\n",
      "4\n",
      "5\n",
      "6\n",
      "7\n",
      "8\n",
      "9\n",
      "10\n",
      "11\n",
      "12\n",
      "13\n",
      "14\n",
      "15\n",
      "16\n",
      "17\n",
      "18\n",
      "19\n"
     ]
    }
   ],
   "source": [
    "while j < 20: \n",
    "    print(j) \n",
    "    j=j+1"
   ]
  },
  {
   "cell_type": "code",
   "execution_count": 5,
   "metadata": {},
   "outputs": [
    {
     "data": {
      "text/plain": [
       "[0, 1, 2, 3, 4, 5, 6, 7, 8, 9, 10, 11, 12, 13, 14, 15, 16, 17, 18, 19]"
      ]
     },
     "execution_count": 5,
     "metadata": {},
     "output_type": "execute_result"
    }
   ],
   "source": [
    "lst = []\n",
    "for i in range(0,20):\n",
    "    lst.append(i)\n",
    "lst"
   ]
  },
  {
   "cell_type": "markdown",
   "metadata": {},
   "source": [
    "Write a student grade checker:\n",
    "- A grade -> the mark greater or equal than 90\n",
    "- B grade -> the mark is between 70 (inclusive) and 90 (not inclusive)\n",
    "- C grade -> the mark is less than 70 (not inclusive)\n",
    "    - input: \n",
    "        1) 90 \n",
    "        2) 75 \n",
    "        3) 65\n",
    "    - Expected Output: \n",
    "        1) A \n",
    "        2) B \n",
    "        3) C\n",
    "and - & or - | not - ~"
   ]
  },
  {
   "cell_type": "code",
   "execution_count": 1,
   "metadata": {},
   "outputs": [
    {
     "name": "stdout",
     "output_type": "stream",
     "text": [
      "Enter the marks one by one40\n",
      "Enter the marks one by one40\n",
      "Enter the marks one by one20\n",
      "Enter the marks one by one30\n",
      "Enter the marks one by one20\n"
     ]
    }
   ],
   "source": [
    "marks = []\n",
    "for i in range(0,5):\n",
    "    mark = int(input(\"Enter the marks one by one\"))\n",
    "marks.append(mark)\n"
   ]
  },
  {
   "cell_type": "code",
   "execution_count": 2,
   "metadata": {},
   "outputs": [
    {
     "data": {
      "text/plain": [
       "[20]"
      ]
     },
     "execution_count": 2,
     "metadata": {},
     "output_type": "execute_result"
    }
   ],
   "source": [
    "marks"
   ]
  },
  {
   "cell_type": "code",
   "execution_count": 17,
   "metadata": {},
   "outputs": [
    {
     "data": {
      "text/plain": [
       "460"
      ]
     },
     "execution_count": 17,
     "metadata": {},
     "output_type": "execute_result"
    }
   ],
   "source": [
    "total = 0\n",
    "for i in marks: \n",
    "    total=total+i\n",
    "total"
   ]
  },
  {
   "cell_type": "code",
   "execution_count": 14,
   "metadata": {},
   "outputs": [
    {
     "data": {
      "text/plain": [
       "460"
      ]
     },
     "execution_count": 14,
     "metadata": {},
     "output_type": "execute_result"
    }
   ],
   "source": [
    "sum(marks)"
   ]
  },
  {
   "cell_type": "code",
   "execution_count": 18,
   "metadata": {},
   "outputs": [],
   "source": [
    "avg_marks = total/5"
   ]
  },
  {
   "cell_type": "code",
   "execution_count": 20,
   "metadata": {},
   "outputs": [
    {
     "data": {
      "text/plain": [
       "92.0"
      ]
     },
     "execution_count": 20,
     "metadata": {},
     "output_type": "execute_result"
    }
   ],
   "source": [
    "avg_marks"
   ]
  },
  {
   "cell_type": "code",
   "execution_count": 24,
   "metadata": {},
   "outputs": [
    {
     "data": {
      "text/plain": [
       "2"
      ]
     },
     "execution_count": 24,
     "metadata": {},
     "output_type": "execute_result"
    }
   ],
   "source": [
    "20%6"
   ]
  },
  {
   "cell_type": "code",
   "execution_count": 22,
   "metadata": {},
   "outputs": [
    {
     "data": {
      "text/plain": [
       "[6, 12, 18, 24, 30, 36, 42, 48, 54, 60, 66, 72, 78, 84, 90, 96]"
      ]
     },
     "execution_count": 22,
     "metadata": {},
     "output_type": "execute_result"
    }
   ],
   "source": [
    "## Print all the numbers that are divisible 6\n",
    "lst = []\n",
    "for i in range(1,100):\n",
    "    if(i%6 == 0):\n",
    "        lst.append(i)\n",
    "lst"
   ]
  },
  {
   "cell_type": "markdown",
   "metadata": {},
   "source": [
    "## Continue"
   ]
  },
  {
   "cell_type": "code",
   "execution_count": 29,
   "metadata": {},
   "outputs": [
    {
     "name": "stdout",
     "output_type": "stream",
     "text": [
      "Enter the name Laxminarayen\n",
      "Enter the age 23\n",
      "My name is: 23 and my age is  Laxminarayen\n"
     ]
    }
   ],
   "source": [
    "marks = []\n",
    "for i in range(0,2):\n",
    "    if i == 0: \n",
    "        name = input(\"Enter the name\")\n",
    "    if i == 1: \n",
    "        age = int(input(\"Enter the age\"))\n",
    "print(\"My name is: {1} and my age is {0}\".format(name,age))"
   ]
  },
  {
   "cell_type": "code",
   "execution_count": 30,
   "metadata": {},
   "outputs": [
    {
     "name": "stdout",
     "output_type": "stream",
     "text": [
      "Enter a name: Laxminarayen\n",
      "L\n",
      "a\n",
      "x\n",
      "m\n",
      "i\n",
      "n\n",
      "a\n",
      "r\n",
      "a\n",
      "y\n",
      "n\n"
     ]
    }
   ],
   "source": [
    "name = input(\"Enter a name: \")\n",
    "for i in name: \n",
    "    if i == 'e': \n",
    "        continue\n",
    "    print(i)"
   ]
  },
  {
   "cell_type": "markdown",
   "metadata": {},
   "source": [
    "## Break"
   ]
  },
  {
   "cell_type": "code",
   "execution_count": 32,
   "metadata": {},
   "outputs": [
    {
     "name": "stdout",
     "output_type": "stream",
     "text": [
      "Enter a name: Raveendran\n",
      "R\n",
      "a\n",
      "v\n"
     ]
    }
   ],
   "source": [
    "name = input(\"Enter a name: \")\n",
    "for i in name: \n",
    "    if i == 'e': \n",
    "        break\n",
    "    print(i)"
   ]
  },
  {
   "cell_type": "code",
   "execution_count": 34,
   "metadata": {},
   "outputs": [
    {
     "name": "stdout",
     "output_type": "stream",
     "text": [
      "Siva\n",
      "Sunil\n",
      "Bala\n"
     ]
    }
   ],
   "source": [
    "name = [\"Siva\",'Sunil','Bala']\n",
    "for i in name: \n",
    "    break\n",
    "for j in name: \n",
    "    print(j)"
   ]
  },
  {
   "cell_type": "markdown",
   "metadata": {},
   "source": [
    "## Functions\n",
    "- Reusable set of instruction\n"
   ]
  },
  {
   "cell_type": "code",
   "execution_count": 4,
   "metadata": {},
   "outputs": [],
   "source": [
    "#Function defenition\n",
    "def inceptez_batch14():\n",
    "    \"\"\"This is a function written in the class to show the students\"\"\"\n",
    "    print(\"True\")"
   ]
  },
  {
   "cell_type": "code",
   "execution_count": 5,
   "metadata": {},
   "outputs": [
    {
     "ename": "AttributeError",
     "evalue": "'str' object has no attribute 'insert'",
     "output_type": "error",
     "traceback": [
      "\u001b[1;31m---------------------------------------------------------------------------\u001b[0m",
      "\u001b[1;31mAttributeError\u001b[0m                            Traceback (most recent call last)",
      "\u001b[1;32m<ipython-input-5-f879136b7469>\u001b[0m in \u001b[0;36m<module>\u001b[1;34m()\u001b[0m\n\u001b[0;32m      1\u001b[0m \u001b[0mname\u001b[0m \u001b[1;33m=\u001b[0m \u001b[1;34m\"Sunil\"\u001b[0m\u001b[1;33m\u001b[0m\u001b[0m\n\u001b[1;32m----> 2\u001b[1;33m \u001b[0mname\u001b[0m\u001b[1;33m.\u001b[0m\u001b[0minsert\u001b[0m\u001b[1;33m(\u001b[0m\u001b[1;33m)\u001b[0m\u001b[1;33m\u001b[0m\u001b[0m\n\u001b[0m",
      "\u001b[1;31mAttributeError\u001b[0m: 'str' object has no attribute 'insert'"
     ]
    }
   ],
   "source": [
    "name = \"Sunil\"\n",
    "name.insert()\n"
   ]
  },
  {
   "cell_type": "code",
   "execution_count": 45,
   "metadata": {},
   "outputs": [
    {
     "name": "stdout",
     "output_type": "stream",
     "text": [
      "True\n"
     ]
    }
   ],
   "source": [
    "#Function call\n",
    "a = inceptez_batch14()"
   ]
  },
  {
   "cell_type": "code",
   "execution_count": 43,
   "metadata": {},
   "outputs": [
    {
     "data": {
      "text/plain": [
       "bool"
      ]
     },
     "execution_count": 43,
     "metadata": {},
     "output_type": "execute_result"
    }
   ],
   "source": [
    "type(a)"
   ]
  },
  {
   "cell_type": "code",
   "execution_count": 53,
   "metadata": {},
   "outputs": [],
   "source": [
    "import subadd"
   ]
  },
  {
   "cell_type": "code",
   "execution_count": 49,
   "metadata": {},
   "outputs": [
    {
     "data": {
      "text/plain": [
       "30"
      ]
     },
     "execution_count": 49,
     "metadata": {},
     "output_type": "execute_result"
    }
   ],
   "source": [
    "subadd.add_var(20,10)"
   ]
  },
  {
   "cell_type": "code",
   "execution_count": 55,
   "metadata": {},
   "outputs": [
    {
     "data": {
      "text/plain": [
       "'This is a function written in the class to show the students'"
      ]
     },
     "execution_count": 55,
     "metadata": {},
     "output_type": "execute_result"
    }
   ],
   "source": [
    "inceptez_batch14.__doc__"
   ]
  },
  {
   "cell_type": "code",
   "execution_count": 58,
   "metadata": {},
   "outputs": [
    {
     "name": "stdout",
     "output_type": "stream",
     "text": [
      "True\n",
      "True\n",
      "True\n",
      "True\n",
      "True\n",
      "True\n",
      "True\n",
      "True\n",
      "True\n",
      "True\n"
     ]
    }
   ],
   "source": [
    "for i in range(0,10):\n",
    "    inceptez_batch14()"
   ]
  },
  {
   "cell_type": "code",
   "execution_count": 59,
   "metadata": {},
   "outputs": [],
   "source": [
    "#Parameter\n",
    "def inceptez_batch14(batch):\n",
    "    \"\"\"This is a function written in the class to show the students\"\"\"\n",
    "    batch = str(batch)\n",
    "    print(\"The current batch is: \",batch)"
   ]
  },
  {
   "cell_type": "code",
   "execution_count": 60,
   "metadata": {},
   "outputs": [
    {
     "name": "stdout",
     "output_type": "stream",
     "text": [
      "The current batch is:  12\n"
     ]
    }
   ],
   "source": [
    "inceptez_batch14(12)"
   ]
  },
  {
   "cell_type": "code",
   "execution_count": 61,
   "metadata": {},
   "outputs": [],
   "source": [
    "#default parameter\n",
    "def inceptez_batch14(batch = 10):\n",
    "    \"\"\"This is a function written in the class to show the students\"\"\"\n",
    "    batch = str(batch)\n",
    "    print(\"The current batch is: \",batch)"
   ]
  },
  {
   "cell_type": "code",
   "execution_count": 63,
   "metadata": {},
   "outputs": [
    {
     "name": "stdout",
     "output_type": "stream",
     "text": [
      "The current batch is:  14\n"
     ]
    }
   ],
   "source": [
    "inceptez_batch14(14)"
   ]
  },
  {
   "cell_type": "code",
   "execution_count": null,
   "metadata": {},
   "outputs": [],
   "source": [
    "## Factorial of a number\n",
    "4! = 4*3*2*1\n",
    "5! = 5*4*3*2*1\n",
    "1! = 1"
   ]
  },
  {
   "cell_type": "code",
   "execution_count": null,
   "metadata": {},
   "outputs": [],
   "source": [
    "4! = 4 * 3! (3! = 3 * 2! ())"
   ]
  },
  {
   "cell_type": "code",
   "execution_count": 71,
   "metadata": {},
   "outputs": [],
   "source": [
    "#recursive function is something that calls itself\n",
    "def fact(num):\n",
    "    if(num == 1):\n",
    "        return num \n",
    "    else: \n",
    "        return(num*fact(num-1))"
   ]
  },
  {
   "cell_type": "code",
   "execution_count": 72,
   "metadata": {},
   "outputs": [
    {
     "data": {
      "text/plain": [
       "24"
      ]
     },
     "execution_count": 72,
     "metadata": {},
     "output_type": "execute_result"
    }
   ],
   "source": [
    "fact(4)"
   ]
  },
  {
   "cell_type": "code",
   "execution_count": 67,
   "metadata": {},
   "outputs": [
    {
     "data": {
      "text/plain": [
       "1"
      ]
     },
     "execution_count": 67,
     "metadata": {},
     "output_type": "execute_result"
    }
   ],
   "source": [
    "fact(1)"
   ]
  },
  {
   "cell_type": "code",
   "execution_count": 6,
   "metadata": {},
   "outputs": [
    {
     "name": "stdout",
     "output_type": "stream",
     "text": [
      "marks = []\n",
      "for i in range(0,5):\n",
      "    mark = int(input(\"Enter the marks one by one\"))\n",
      "marks.append(mark)\n",
      "marks\n",
      "%history\n",
      "#Function defenition\n",
      "def inceptez_batch14():\n",
      "    \"\"\"This is a function written in the class to show the students\"\"\"\n",
      "    print(\"True\")\n",
      "name = \"Sunil\"\n",
      "name.insert()\n",
      "%history\n"
     ]
    }
   ],
   "source": [
    "%history"
   ]
  },
  {
   "cell_type": "code",
   "execution_count": 13,
   "metadata": {},
   "outputs": [],
   "source": [
    "from subadd import sub_var"
   ]
  },
  {
   "cell_type": "code",
   "execution_count": 14,
   "metadata": {},
   "outputs": [
    {
     "data": {
      "text/plain": [
       "4"
      ]
     },
     "execution_count": 14,
     "metadata": {},
     "output_type": "execute_result"
    }
   ],
   "source": [
    "sub_var(6,2)"
   ]
  }
 ],
 "metadata": {
  "kernelspec": {
   "display_name": "Python 3",
   "language": "python",
   "name": "python3"
  },
  "language_info": {
   "codemirror_mode": {
    "name": "ipython",
    "version": 3
   },
   "file_extension": ".py",
   "mimetype": "text/x-python",
   "name": "python",
   "nbconvert_exporter": "python",
   "pygments_lexer": "ipython3",
   "version": "3.7.6"
  }
 },
 "nbformat": 4,
 "nbformat_minor": 2
}
