{
 "cells": [
  {
   "cell_type": "markdown",
   "metadata": {},
   "source": [
    "## conditional Loops\n",
    "if, else, elif\n",
    "\n",
    "=, !=,<,>,<=,>=\n",
    "\n",
    "syntax : \n",
    "tab space - if not followed then IndentationError"
   ]
  },
  {
   "cell_type": "code",
   "execution_count": 2,
   "metadata": {},
   "outputs": [
    {
     "name": "stdout",
     "output_type": "stream",
     "text": [
      "Enter the Name: Bala\n",
      "Your name is : Bala\n",
      "Your name is not Prabhu\n"
     ]
    }
   ],
   "source": [
    "name=input(\"Enter the Name: \")\n",
    "if name == \"Prabhu\" :\n",
    "    print(\"Hello \",name)\n",
    "else:\n",
    "    print(\"Your name is :\", name)\n",
    "    print(\"Your name is not Prabhu\")"
   ]
  },
  {
   "cell_type": "markdown",
   "metadata": {},
   "source": [
    "## to check greate than given number greater than 40 or not"
   ]
  },
  {
   "cell_type": "code",
   "execution_count": 8,
   "metadata": {},
   "outputs": [
    {
     "name": "stdout",
     "output_type": "stream",
     "text": [
      "Please enter the Number: 60\n",
      "Entered number is greater than 40\n"
     ]
    }
   ],
   "source": [
    "number = input(\"Please enter the Number: \")\n",
    "if int(number) > 40:\n",
    "    print(\"Entered number is greater than 40\")\n",
    "else: \n",
    "    print(\"Given number than 40\")\n"
   ]
  },
  {
   "cell_type": "markdown",
   "metadata": {},
   "source": [
    "## ELIF\n",
    "Logical operator  - and or not"
   ]
  },
  {
   "cell_type": "code",
   "execution_count": null,
   "metadata": {},
   "outputs": [],
   "source": [
    "a = int(input (\"Please enter the First Number: \"))\n",
    "b = int(input (\"Please enter the Second Number: \"))\n",
    "sum_= a+b\n",
    "if (sum_ <= 20):\n",
    "    print(\"less than Century\")\n",
    "elif(sum_ == 100):\n",
    "    print(\"Century\")\n",
    "else:\n",
    "    print(\"Condition not satify\")"
   ]
  },
  {
   "cell_type": "code",
   "execution_count": 3,
   "metadata": {},
   "outputs": [
    {
     "name": "stdout",
     "output_type": "stream",
     "text": [
      "Please enter the number: 70\n",
      "B Grade\n"
     ]
    }
   ],
   "source": [
    "a = int(input(\"Please enter the number: \"))\n",
    "if (a>90):\n",
    "    print(\"A Grade\")\n",
    "elif (a>65 and a<75):\n",
    "    print (\"B Grade\")\n",
    "else:\n",
    "    print(\"C Grade\")"
   ]
  },
  {
   "cell_type": "markdown",
   "metadata": {},
   "source": [
    "## If else single line"
   ]
  },
  {
   "cell_type": "code",
   "execution_count": 2,
   "metadata": {},
   "outputs": [
    {
     "name": "stdout",
     "output_type": "stream",
     "text": [
      "Please enter the number60\n",
      "greater than 40\n"
     ]
    }
   ],
   "source": [
    "a = int(input(\"Please enter the number\"))\n",
    "print(\"greater than 40\") if a>40 else print(\"less than 40\")"
   ]
  },
  {
   "cell_type": "markdown",
   "metadata": {},
   "source": [
    "## Nested If"
   ]
  },
  {
   "cell_type": "code",
   "execution_count": 30,
   "metadata": {},
   "outputs": [
    {
     "name": "stdout",
     "output_type": "stream",
     "text": [
      "Inside Loop 1\n",
      "Inside Loop 2\n",
      "Inside Loop 3\n"
     ]
    }
   ],
   "source": [
    "a = 10\n",
    "b = 20\n",
    "c = 105\n",
    "if a > 5:\n",
    "    print(\"Inside Loop 1\")\n",
    "    if b > 15:\n",
    "        print(\"Inside Loop 2\")\n",
    "        if c > 100:\n",
    "            print(\"Inside Loop 3\")"
   ]
  },
  {
   "cell_type": "markdown",
   "metadata": {},
   "source": [
    "## pass to avoid error"
   ]
  },
  {
   "cell_type": "code",
   "execution_count": 31,
   "metadata": {},
   "outputs": [
    {
     "name": "stdout",
     "output_type": "stream",
     "text": [
      "B\n",
      "C\n"
     ]
    }
   ],
   "source": [
    "a=10\n",
    "b=20\n",
    "c=70\n",
    "if a > 5:\n",
    "    pass\n",
    "    if b > 15 :\n",
    "        print(\"B\")\n",
    "        if c > 60 :\n",
    "            print(\"C\")\n",
    "    \n",
    "    "
   ]
  },
  {
   "cell_type": "markdown",
   "metadata": {},
   "source": [
    "## For and While Loops\n",
    "    . Iteration\n",
    " These are called as primitive loops"
   ]
  },
  {
   "cell_type": "code",
   "execution_count": 35,
   "metadata": {},
   "outputs": [
    {
     "name": "stdout",
     "output_type": "stream",
     "text": [
      "1\n",
      "2\n",
      "3\n",
      "4\n",
      "5\n"
     ]
    }
   ],
   "source": [
    "j = 1\n",
    "while j <= 5:\n",
    "    print(j)\n",
    "    j=j+1"
   ]
  },
  {
   "cell_type": "code",
   "execution_count": 16,
   "metadata": {},
   "outputs": [
    {
     "name": "stdout",
     "output_type": "stream",
     "text": [
      "0\n",
      "1\n",
      "2\n",
      "3\n",
      "4\n",
      "5\n",
      "6\n"
     ]
    }
   ],
   "source": [
    "lst =[1,2,3,4,5,6,7]\n",
    "lst1=[]\n",
    "for i in range(0,len(lst)):\n",
    "    lst.append(i)\n",
    "    print(i)"
   ]
  },
  {
   "cell_type": "code",
   "execution_count": 14,
   "metadata": {},
   "outputs": [
    {
     "name": "stdout",
     "output_type": "stream",
     "text": [
      "A Grade\n",
      "A Grade\n",
      "A Grade\n",
      "C Grade\n",
      "A Grade\n"
     ]
    }
   ],
   "source": [
    "lst =[60,70,80,50,100]\n",
    "for i in lst:\n",
    "    if (i>50):\n",
    "        print(\"A Grade\")\n",
    "    elif (i>65 and i<75):\n",
    "        print (\"B Grade\")\n",
    "    else:\n",
    "        print(\"C Grade\")"
   ]
  },
  {
   "cell_type": "code",
   "execution_count": 56,
   "metadata": {},
   "outputs": [
    {
     "name": "stdout",
     "output_type": "stream",
     "text": [
      "Enter mark :50\n",
      "Enter mark :60\n",
      "Enter mark :70\n",
      "Enter mark :80\n",
      "Enter mark :90\n",
      "Mean of Mark:  70.0\n"
     ]
    }
   ],
   "source": [
    "marks=[]\n",
    "for i in range(5):\n",
    "    mark= int(input('Enter mark :'))\n",
    "    marks.append(mark)\n",
    "print('Mean of Mark: ',sum(marks)/5)"
   ]
  },
  {
   "cell_type": "code",
   "execution_count": 57,
   "metadata": {},
   "outputs": [
    {
     "name": "stdout",
     "output_type": "stream",
     "text": [
      "Enter marks60\n",
      "Enter marks70\n",
      "Enter marks80\n",
      "Enter marks90\n",
      "Enter marks10\n",
      "Student has grade C\n"
     ]
    }
   ],
   "source": [
    "marks = []\n",
    "for i in range(0,5):\n",
    "    mark = int(input(\"Enter marks\"))\n",
    "    marks.append(mark)\n",
    "sum_marks = sum(marks) / 5\n",
    "if(sum_marks >= 90):\n",
    "    print(\"Student has grade A\")\n",
    "elif(sum_marks >= 70 and sum_marks <= 90):\n",
    "    print(\"Student has grade B\")\n",
    "else:\n",
    "    print(\"Student has grade C\")"
   ]
  },
  {
   "cell_type": "code",
   "execution_count": 3,
   "metadata": {},
   "outputs": [
    {
     "name": "stdout",
     "output_type": "stream",
     "text": [
      "Enter five marks80\n",
      "Enter five marks90\n",
      "Enter five marks88\n",
      "Enter five marks92\n",
      "Enter five marks95\n",
      "Sum is  445\n",
      "average is  89.0\n"
     ]
    }
   ],
   "source": [
    "marks =list()\n",
    "for i in range(0,5):\n",
    "    mark = int(input(\"Enter five marks\"))\n",
    "    marks.append(mark)   \n",
    "print(\"Sum is \",sum(marks))\n",
    "print(\"average is \",sum(marks)/len(marks))"
   ]
  },
  {
   "cell_type": "code",
   "execution_count": 2,
   "metadata": {},
   "outputs": [
    {
     "data": {
      "text/plain": [
       "[0, 6, 12, 18, 24, 30, 36, 42, 48, 54, 60, 66, 72, 78, 84, 90, 96]"
      ]
     },
     "execution_count": 2,
     "metadata": {},
     "output_type": "execute_result"
    }
   ],
   "source": [
    "lst = []\n",
    "for i in range(0,100):\n",
    "    if(i%6 ==0):\n",
    "        lst.append(i)\n",
    "lst"
   ]
  },
  {
   "cell_type": "code",
   "execution_count": 8,
   "metadata": {},
   "outputs": [
    {
     "name": "stdout",
     "output_type": "stream",
     "text": [
      "Enter Name: Prabhu\n",
      "Enter Age: 26\n",
      "Name : Prabhu Age: 26\n"
     ]
    }
   ],
   "source": [
    "for i in range(0,2):\n",
    "    if i == 0 :\n",
    "        name =input(\"Enter Name: \")\n",
    "    if i == 1:\n",
    "        age= input(\"Enter Age: \")\n",
    "        print(\"Name : {0} Age: {1}\".format(name,age))"
   ]
  },
  {
   "cell_type": "markdown",
   "metadata": {},
   "source": [
    "## continue,pass and break"
   ]
  },
  {
   "cell_type": "code",
   "execution_count": 10,
   "metadata": {},
   "outputs": [
    {
     "name": "stdout",
     "output_type": "stream",
     "text": [
      "Enter the Name: Prabhu\n",
      "P\n",
      "r\n",
      "b\n",
      "h\n",
      "u\n"
     ]
    }
   ],
   "source": [
    "name = input(\"Enter the Name: \")\n",
    "for i in name:\n",
    "    if i == 'a':\n",
    "        continue\n",
    "    print(i)"
   ]
  },
  {
   "cell_type": "code",
   "execution_count": 11,
   "metadata": {},
   "outputs": [
    {
     "name": "stdout",
     "output_type": "stream",
     "text": [
      "Enter the Name: Prabhu\n",
      "P\n",
      "r\n",
      "a\n",
      "b\n",
      "h\n",
      "u\n"
     ]
    }
   ],
   "source": [
    "name = input(\"Enter the Name: \")\n",
    "for i in name:\n",
    "    if i == 'a':\n",
    "        pass\n",
    "    print(i)"
   ]
  },
  {
   "cell_type": "code",
   "execution_count": 12,
   "metadata": {},
   "outputs": [
    {
     "name": "stdout",
     "output_type": "stream",
     "text": [
      "Enter the Name: Prabhu\n",
      "P\n",
      "r\n"
     ]
    }
   ],
   "source": [
    "name = input(\"Enter the Name: \")\n",
    "for i in name:\n",
    "    if i == 'a':\n",
    "        break\n",
    "    print(i)"
   ]
  },
  {
   "cell_type": "markdown",
   "metadata": {},
   "source": [
    "## Functions\n",
    " - Reusable set of instructions"
   ]
  },
  {
   "cell_type": "code",
   "execution_count": 21,
   "metadata": {},
   "outputs": [],
   "source": [
    "def check():\n",
    "    \"\"\"\n",
    "    Check Function\n",
    "    \"\"\"\n",
    "    print(\"success\")"
   ]
  },
  {
   "cell_type": "code",
   "execution_count": 22,
   "metadata": {},
   "outputs": [
    {
     "name": "stdout",
     "output_type": "stream",
     "text": [
      "success\n"
     ]
    }
   ],
   "source": [
    "check()"
   ]
  },
  {
   "cell_type": "code",
   "execution_count": 37,
   "metadata": {},
   "outputs": [],
   "source": [
    "import add_sub"
   ]
  },
  {
   "cell_type": "markdown",
   "metadata": {},
   "source": [
    "## Recursive Function\n",
    "- A fuction calling itself"
   ]
  },
  {
   "cell_type": "code",
   "execution_count": 24,
   "metadata": {},
   "outputs": [],
   "source": [
    "def fact(num):\n",
    "    if (num == 1):\n",
    "        return num\n",
    "    else:\n",
    "        return(num*fact(num-1))"
   ]
  },
  {
   "cell_type": "code",
   "execution_count": 25,
   "metadata": {},
   "outputs": [
    {
     "data": {
      "text/plain": [
       "24"
      ]
     },
     "execution_count": 25,
     "metadata": {},
     "output_type": "execute_result"
    }
   ],
   "source": [
    "fact(4)"
   ]
  },
  {
   "cell_type": "markdown",
   "metadata": {},
   "source": [
    "## %history\n",
    "showing history "
   ]
  },
  {
   "cell_type": "markdown",
   "metadata": {},
   "source": [
    "## import module\n",
    "- use function to any other python module"
   ]
  },
  {
   "cell_type": "code",
   "execution_count": 4,
   "metadata": {},
   "outputs": [
    {
     "name": "stdout",
     "output_type": "stream",
     "text": [
      "8\n"
     ]
    }
   ],
   "source": [
    "import addsub\n",
    "a = addsub.addValue(4,4)\n",
    "print(a)"
   ]
  }
 ],
 "metadata": {
  "kernelspec": {
   "display_name": "Python 3",
   "language": "python",
   "name": "python3"
  },
  "language_info": {
   "codemirror_mode": {
    "name": "ipython",
    "version": 3
   },
   "file_extension": ".py",
   "mimetype": "text/x-python",
   "name": "python",
   "nbconvert_exporter": "python",
   "pygments_lexer": "ipython3",
   "version": "3.7.6"
  }
 },
 "nbformat": 4,
 "nbformat_minor": 4
}
