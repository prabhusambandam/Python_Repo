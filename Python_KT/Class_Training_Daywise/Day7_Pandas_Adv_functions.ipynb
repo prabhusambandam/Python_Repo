{
 "cells": [
  {
   "cell_type": "markdown",
   "metadata": {},
   "source": [
    "- Polymorphism - 'poly' = Multiple, 'Morphism' = Form (Functions)\n",
    "## Object Oriented Programming\n",
    "- Introduced structured programming: \n",
    "- The main feature of OOPS - inheritance, Abstraction, Encapsulation. "
   ]
  },
  {
   "cell_type": "code",
   "execution_count": 6,
   "metadata": {},
   "outputs": [],
   "source": [
    "#Keyword: class\n",
    "class test:\n",
    "    def __init__(self,x): #Constructor\n",
    "        self.training = x\n",
    "        \n",
    "    def printing_function(self):\n",
    "        print(\"Hi welcome to the class batch:\",self.training)"
   ]
  },
  {
   "cell_type": "code",
   "execution_count": 11,
   "metadata": {},
   "outputs": [],
   "source": [
    "obj2 = test(\"Inceptez13\")"
   ]
  },
  {
   "cell_type": "code",
   "execution_count": 12,
   "metadata": {},
   "outputs": [
    {
     "data": {
      "text/plain": [
       "'Inceptez13'"
      ]
     },
     "execution_count": 12,
     "metadata": {},
     "output_type": "execute_result"
    }
   ],
   "source": [
    "obj2.training"
   ]
  },
  {
   "cell_type": "code",
   "execution_count": 13,
   "metadata": {},
   "outputs": [
    {
     "name": "stdout",
     "output_type": "stream",
     "text": [
      "Hi welcome to the class batch: Inceptez13\n"
     ]
    }
   ],
   "source": [
    "obj2.printing_function()"
   ]
  },
  {
   "cell_type": "code",
   "execution_count": 17,
   "metadata": {},
   "outputs": [],
   "source": [
    "## ADVANCED PANDAS 1!"
   ]
  },
  {
   "cell_type": "code",
   "execution_count": 18,
   "metadata": {},
   "outputs": [],
   "source": [
    "def cube(x):\n",
    "    return x*x*x"
   ]
  },
  {
   "cell_type": "markdown",
   "metadata": {},
   "source": [
    "## Anonymous Function\n",
    "IT  has no name\n",
    "\n",
    "\n",
    "SYNTAX: lambda arguments: operations"
   ]
  },
  {
   "cell_type": "code",
   "execution_count": 19,
   "metadata": {},
   "outputs": [
    {
     "name": "stdout",
     "output_type": "stream",
     "text": [
      "8\n"
     ]
    }
   ],
   "source": [
    "s = lambda x:x*x*x\n",
    "print(s(2))"
   ]
  },
  {
   "cell_type": "markdown",
   "metadata": {},
   "source": [
    "## Map\n",
    "\n",
    "SYNTAX: map(func, *iterables) --> map object\n"
   ]
  },
  {
   "cell_type": "code",
   "execution_count": 23,
   "metadata": {},
   "outputs": [
    {
     "data": {
      "text/plain": [
       "str"
      ]
     },
     "execution_count": 23,
     "metadata": {},
     "output_type": "execute_result"
    }
   ],
   "source": [
    "Students = ['Rajesh','Balamurali','Sunil','Alamelu']\n",
    "type(str(Students).upper())"
   ]
  },
  {
   "cell_type": "code",
   "execution_count": 25,
   "metadata": {},
   "outputs": [
    {
     "data": {
      "text/plain": [
       "['RAJESH', 'BALAMURALI', 'SUNIL', 'ALAMELU']"
      ]
     },
     "execution_count": 25,
     "metadata": {},
     "output_type": "execute_result"
    }
   ],
   "source": [
    "uppercase = []\n",
    "for i in Students: \n",
    "    uppercase.append(i.upper())\n",
    "uppercase"
   ]
  },
  {
   "cell_type": "code",
   "execution_count": 26,
   "metadata": {},
   "outputs": [
    {
     "data": {
      "text/plain": [
       "['RAJESH', 'BALAMURALI', 'SUNIL', 'ALAMELU']"
      ]
     },
     "execution_count": 26,
     "metadata": {},
     "output_type": "execute_result"
    }
   ],
   "source": [
    "list(map(str.upper,Students))"
   ]
  },
  {
   "cell_type": "code",
   "execution_count": 27,
   "metadata": {},
   "outputs": [
    {
     "data": {
      "text/plain": [
       "<map at 0x1ec8fc1a7b8>"
      ]
     },
     "execution_count": 27,
     "metadata": {},
     "output_type": "execute_result"
    }
   ],
   "source": [
    "map(str.upper,Students)"
   ]
  },
  {
   "cell_type": "code",
   "execution_count": null,
   "metadata": {},
   "outputs": [],
   "source": [
    "##ASSIGNMENT: Write a lambda function to round the numbers and then make use of the keyword round() and apply it using map\n",
    "numbers= [1.34,4.56,6.78,10.90,8.45,6.75]"
   ]
  },
  {
   "cell_type": "markdown",
   "metadata": {},
   "source": [
    "## Filter"
   ]
  },
  {
   "cell_type": "code",
   "execution_count": 28,
   "metadata": {},
   "outputs": [],
   "source": [
    "scores = [50,65,70,80,85]"
   ]
  },
  {
   "cell_type": "code",
   "execution_count": 29,
   "metadata": {},
   "outputs": [],
   "source": [
    "def lesser_scores(scores):\n",
    "    return scores<75"
   ]
  },
  {
   "cell_type": "code",
   "execution_count": 30,
   "metadata": {},
   "outputs": [
    {
     "name": "stdout",
     "output_type": "stream",
     "text": [
      "True\n",
      "True\n",
      "True\n",
      "False\n",
      "False\n"
     ]
    }
   ],
   "source": [
    "#MAP \n",
    "for i in scores: \n",
    "    print(lesser_scores(i))"
   ]
  },
  {
   "cell_type": "code",
   "execution_count": 33,
   "metadata": {},
   "outputs": [
    {
     "data": {
      "text/plain": [
       "[True, True, True, False, False]"
      ]
     },
     "execution_count": 33,
     "metadata": {},
     "output_type": "execute_result"
    }
   ],
   "source": [
    "list(map(lesser_scores,scores))"
   ]
  },
  {
   "cell_type": "code",
   "execution_count": 32,
   "metadata": {},
   "outputs": [
    {
     "name": "stdout",
     "output_type": "stream",
     "text": [
      "50\n",
      "65\n",
      "70\n"
     ]
    }
   ],
   "source": [
    "#Filter\n",
    "for i in scores:\n",
    "    if(lesser_scores(i)):\n",
    "        print(i)"
   ]
  },
  {
   "cell_type": "code",
   "execution_count": 34,
   "metadata": {},
   "outputs": [
    {
     "data": {
      "text/plain": [
       "[50, 65, 70]"
      ]
     },
     "execution_count": 34,
     "metadata": {},
     "output_type": "execute_result"
    }
   ],
   "source": [
    "list(filter(lesser_scores,scores))"
   ]
  },
  {
   "cell_type": "markdown",
   "metadata": {},
   "source": [
    "## List Comprehension"
   ]
  },
  {
   "cell_type": "code",
   "execution_count": 40,
   "metadata": {},
   "outputs": [],
   "source": [
    "words = ['inceptez','Students','clss','batch']\n",
    "vowels = ['a','e','i','o']"
   ]
  },
  {
   "cell_type": "code",
   "execution_count": 37,
   "metadata": {},
   "outputs": [
    {
     "name": "stdout",
     "output_type": "stream",
     "text": [
      "inceptez\n",
      "inceptez\n",
      "inceptez\n",
      "Students\n",
      "Students\n",
      "batch\n",
      "0:00:00.997000\n"
     ]
    }
   ],
   "source": [
    "import datetime \n",
    "start = datetime.datetime.now()\n",
    "for i in words:\n",
    "    for j in i: \n",
    "        if(j in vowels):\n",
    "            print(i)\n",
    "print((datetime.datetime.now()-start)*1000)"
   ]
  },
  {
   "cell_type": "code",
   "execution_count": 64,
   "metadata": {},
   "outputs": [
    {
     "name": "stdout",
     "output_type": "stream",
     "text": [
      "inceptez\n",
      "Students\n",
      "batch\n",
      "0:00:00.969000\n"
     ]
    }
   ],
   "source": [
    "#First line of fold\n",
    "import datetime \n",
    "start = datetime.datetime.now()\n",
    "for i in words:\n",
    "    word = list(i)\n",
    "    #print(word)\n",
    "    if(any(j in vowels for j in word)):\n",
    "        print(i)\n",
    "print((datetime.datetime.now()-start)*1000)"
   ]
  },
  {
   "cell_type": "code",
   "execution_count": 65,
   "metadata": {},
   "outputs": [
    {
     "name": "stdout",
     "output_type": "stream",
     "text": [
      "['inceptez', 'inceptez', 'inceptez', 'Students', 'batch']\n",
      "0:00:00\n"
     ]
    }
   ],
   "source": [
    "#Second line of fold: \n",
    "start = datetime.datetime.now()\n",
    "hal = [i for i in words for k in i if k in vowels]\n",
    "print(hal)\n",
    "print((datetime.datetime.now()-start)*1000)"
   ]
  },
  {
   "cell_type": "code",
   "execution_count": 51,
   "metadata": {},
   "outputs": [
    {
     "name": "stdout",
     "output_type": "stream",
     "text": [
      "0:00:00\n"
     ]
    }
   ],
   "source": [
    "#Second line of fold: \n",
    "start = datetime.datetime.now()\n",
    "hal = [i for i in words for k in vowels if k in i]\n",
    "print((datetime.datetime.now()-start)*1000)"
   ]
  },
  {
   "cell_type": "code",
   "execution_count": null,
   "metadata": {},
   "outputs": [],
   "source": [
    "#ASSIGNMENT USing list comprehension print all the multiples of 7 range:0-100"
   ]
  },
  {
   "cell_type": "code",
   "execution_count": 75,
   "metadata": {},
   "outputs": [
    {
     "name": "stdout",
     "output_type": "stream",
     "text": [
      "100\n",
      "800\n",
      "2700\n"
     ]
    }
   ],
   "source": [
    "## zip & Enumerate\n",
    "n1 = [1,2,3,4,5]\n",
    "n2 = [10,20,30,40,50]\n",
    "n3 = [10,20,30]\n",
    "for i,j,k in zip(n1,n2,n3):\n",
    "    print(i*j*k)"
   ]
  },
  {
   "cell_type": "code",
   "execution_count": null,
   "metadata": {},
   "outputs": [],
   "source": [
    "### Zip is not nested loop !!!!Do not forget this "
   ]
  },
  {
   "cell_type": "code",
   "execution_count": 76,
   "metadata": {
    "collapsed": true
   },
   "outputs": [
    {
     "name": "stdout",
     "output_type": "stream",
     "text": [
      "100\n",
      "200\n",
      "300\n",
      "200\n",
      "400\n",
      "600\n",
      "300\n",
      "600\n",
      "900\n",
      "400\n",
      "800\n",
      "1200\n",
      "500\n",
      "1000\n",
      "1500\n",
      "200\n",
      "400\n",
      "600\n",
      "400\n",
      "800\n",
      "1200\n",
      "600\n",
      "1200\n",
      "1800\n",
      "800\n",
      "1600\n",
      "2400\n",
      "1000\n",
      "2000\n",
      "3000\n",
      "300\n",
      "600\n",
      "900\n",
      "600\n",
      "1200\n",
      "1800\n",
      "900\n",
      "1800\n",
      "2700\n",
      "1200\n",
      "2400\n",
      "3600\n",
      "1500\n",
      "3000\n",
      "4500\n",
      "400\n",
      "800\n",
      "1200\n",
      "800\n",
      "1600\n",
      "2400\n",
      "1200\n",
      "2400\n",
      "3600\n",
      "1600\n",
      "3200\n",
      "4800\n",
      "2000\n",
      "4000\n",
      "6000\n",
      "500\n",
      "1000\n",
      "1500\n",
      "1000\n",
      "2000\n",
      "3000\n",
      "1500\n",
      "3000\n",
      "4500\n",
      "2000\n",
      "4000\n",
      "6000\n",
      "2500\n",
      "5000\n",
      "7500\n"
     ]
    }
   ],
   "source": [
    "## zip & Enumerate\n",
    "n1 = [1,2,3,4,5]\n",
    "n2 = [10,20,30,40,50]\n",
    "n3 = [10,20,30]\n",
    "for i in n1:\n",
    "    for j in n2:\n",
    "        for k in n3:\n",
    "            print(i*j*k)"
   ]
  },
  {
   "cell_type": "code",
   "execution_count": 77,
   "metadata": {},
   "outputs": [],
   "source": [
    "import pandas as pd\n",
    "### Enumerate\n",
    "df = pd.read_csv(\"IMDB-Movie-Data.csv\")"
   ]
  },
  {
   "cell_type": "code",
   "execution_count": 80,
   "metadata": {},
   "outputs": [],
   "source": [
    "df = df.dropna()"
   ]
  },
  {
   "cell_type": "code",
   "execution_count": 82,
   "metadata": {},
   "outputs": [
    {
     "data": {
      "text/html": [
       "<div>\n",
       "<style scoped>\n",
       "    .dataframe tbody tr th:only-of-type {\n",
       "        vertical-align: middle;\n",
       "    }\n",
       "\n",
       "    .dataframe tbody tr th {\n",
       "        vertical-align: top;\n",
       "    }\n",
       "\n",
       "    .dataframe thead th {\n",
       "        text-align: right;\n",
       "    }\n",
       "</style>\n",
       "<table border=\"1\" class=\"dataframe\">\n",
       "  <thead>\n",
       "    <tr style=\"text-align: right;\">\n",
       "      <th></th>\n",
       "      <th>Rank</th>\n",
       "      <th>Title</th>\n",
       "      <th>Genre</th>\n",
       "      <th>Description</th>\n",
       "      <th>Director</th>\n",
       "      <th>Actors</th>\n",
       "      <th>Year</th>\n",
       "      <th>Runtime (Minutes)</th>\n",
       "      <th>Rating</th>\n",
       "      <th>Votes</th>\n",
       "      <th>Revenue (Millions)</th>\n",
       "      <th>Metascore</th>\n",
       "    </tr>\n",
       "  </thead>\n",
       "  <tbody>\n",
       "    <tr>\n",
       "      <th>993</th>\n",
       "      <td>994</td>\n",
       "      <td>Resident Evil: Afterlife</td>\n",
       "      <td>Action,Adventure,Horror</td>\n",
       "      <td>While still out to destroy the evil Umbrella C...</td>\n",
       "      <td>Paul W.S. Anderson</td>\n",
       "      <td>Milla Jovovich, Ali Larter, Wentworth Miller,K...</td>\n",
       "      <td>2010</td>\n",
       "      <td>97</td>\n",
       "      <td>5.9</td>\n",
       "      <td>140900</td>\n",
       "      <td>60.13</td>\n",
       "      <td>37.0</td>\n",
       "    </tr>\n",
       "    <tr>\n",
       "      <th>994</th>\n",
       "      <td>995</td>\n",
       "      <td>Project X</td>\n",
       "      <td>Comedy</td>\n",
       "      <td>3 high school seniors throw a birthday party t...</td>\n",
       "      <td>Nima Nourizadeh</td>\n",
       "      <td>Thomas Mann, Oliver Cooper, Jonathan Daniel Br...</td>\n",
       "      <td>2012</td>\n",
       "      <td>88</td>\n",
       "      <td>6.7</td>\n",
       "      <td>164088</td>\n",
       "      <td>54.72</td>\n",
       "      <td>48.0</td>\n",
       "    </tr>\n",
       "    <tr>\n",
       "      <th>996</th>\n",
       "      <td>997</td>\n",
       "      <td>Hostel: Part II</td>\n",
       "      <td>Horror</td>\n",
       "      <td>Three American college students studying abroa...</td>\n",
       "      <td>Eli Roth</td>\n",
       "      <td>Lauren German, Heather Matarazzo, Bijou Philli...</td>\n",
       "      <td>2007</td>\n",
       "      <td>94</td>\n",
       "      <td>5.5</td>\n",
       "      <td>73152</td>\n",
       "      <td>17.54</td>\n",
       "      <td>46.0</td>\n",
       "    </tr>\n",
       "    <tr>\n",
       "      <th>997</th>\n",
       "      <td>998</td>\n",
       "      <td>Step Up 2: The Streets</td>\n",
       "      <td>Drama,Music,Romance</td>\n",
       "      <td>Romantic sparks occur between two dance studen...</td>\n",
       "      <td>Jon M. Chu</td>\n",
       "      <td>Robert Hoffman, Briana Evigan, Cassie Ventura,...</td>\n",
       "      <td>2008</td>\n",
       "      <td>98</td>\n",
       "      <td>6.2</td>\n",
       "      <td>70699</td>\n",
       "      <td>58.01</td>\n",
       "      <td>50.0</td>\n",
       "    </tr>\n",
       "    <tr>\n",
       "      <th>999</th>\n",
       "      <td>1000</td>\n",
       "      <td>Nine Lives</td>\n",
       "      <td>Comedy,Family,Fantasy</td>\n",
       "      <td>A stuffy businessman finds himself trapped ins...</td>\n",
       "      <td>Barry Sonnenfeld</td>\n",
       "      <td>Kevin Spacey, Jennifer Garner, Robbie Amell,Ch...</td>\n",
       "      <td>2016</td>\n",
       "      <td>87</td>\n",
       "      <td>5.3</td>\n",
       "      <td>12435</td>\n",
       "      <td>19.64</td>\n",
       "      <td>11.0</td>\n",
       "    </tr>\n",
       "  </tbody>\n",
       "</table>\n",
       "</div>"
      ],
      "text/plain": [
       "     Rank                     Title                    Genre  \\\n",
       "993   994  Resident Evil: Afterlife  Action,Adventure,Horror   \n",
       "994   995                 Project X                   Comedy   \n",
       "996   997           Hostel: Part II                   Horror   \n",
       "997   998    Step Up 2: The Streets      Drama,Music,Romance   \n",
       "999  1000                Nine Lives    Comedy,Family,Fantasy   \n",
       "\n",
       "                                           Description            Director  \\\n",
       "993  While still out to destroy the evil Umbrella C...  Paul W.S. Anderson   \n",
       "994  3 high school seniors throw a birthday party t...     Nima Nourizadeh   \n",
       "996  Three American college students studying abroa...            Eli Roth   \n",
       "997  Romantic sparks occur between two dance studen...          Jon M. Chu   \n",
       "999  A stuffy businessman finds himself trapped ins...    Barry Sonnenfeld   \n",
       "\n",
       "                                                Actors  Year  \\\n",
       "993  Milla Jovovich, Ali Larter, Wentworth Miller,K...  2010   \n",
       "994  Thomas Mann, Oliver Cooper, Jonathan Daniel Br...  2012   \n",
       "996  Lauren German, Heather Matarazzo, Bijou Philli...  2007   \n",
       "997  Robert Hoffman, Briana Evigan, Cassie Ventura,...  2008   \n",
       "999  Kevin Spacey, Jennifer Garner, Robbie Amell,Ch...  2016   \n",
       "\n",
       "     Runtime (Minutes)  Rating   Votes  Revenue (Millions)  Metascore  \n",
       "993                 97     5.9  140900               60.13       37.0  \n",
       "994                 88     6.7  164088               54.72       48.0  \n",
       "996                 94     5.5   73152               17.54       46.0  \n",
       "997                 98     6.2   70699               58.01       50.0  \n",
       "999                 87     5.3   12435               19.64       11.0  "
      ]
     },
     "execution_count": 82,
     "metadata": {},
     "output_type": "execute_result"
    }
   ],
   "source": [
    "df.tail()"
   ]
  },
  {
   "cell_type": "code",
   "execution_count": 92,
   "metadata": {},
   "outputs": [
    {
     "name": "stdout",
     "output_type": "stream",
     "text": [
      "<class 'pandas.core.frame.DataFrame'>\n",
      "Int64Index: 838 entries, 0 to 999\n",
      "Data columns (total 13 columns):\n",
      "Rank                  838 non-null int64\n",
      "Title                 838 non-null object\n",
      "Genre                 838 non-null object\n",
      "Description           838 non-null object\n",
      "Director              838 non-null object\n",
      "Actors                838 non-null object\n",
      "Year                  838 non-null int64\n",
      "Runtime (Minutes)     838 non-null int64\n",
      "Rating                838 non-null float64\n",
      "Votes                 838 non-null int64\n",
      "Revenue (Millions)    838 non-null float64\n",
      "Metascore             838 non-null float64\n",
      "short/long            7 non-null object\n",
      "dtypes: float64(3), int64(4), object(6)\n",
      "memory usage: 132.6+ KB\n"
     ]
    }
   ],
   "source": [
    "df.info()"
   ]
  },
  {
   "cell_type": "code",
   "execution_count": 89,
   "metadata": {},
   "outputs": [],
   "source": [
    "def classify(duration):\n",
    "    if duration < 110:\n",
    "        return 'short'\n",
    "    else: \n",
    "        return 'long'"
   ]
  },
  {
   "cell_type": "code",
   "execution_count": 95,
   "metadata": {
    "collapsed": true
   },
   "outputs": [
    {
     "name": "stderr",
     "output_type": "stream",
     "text": [
      "c:\\users\\aadhi\\anaconda3\\lib\\site-packages\\ipykernel_launcher.py:5: SettingWithCopyWarning: \n",
      "A value is trying to be set on a copy of a slice from a DataFrame\n",
      "\n",
      "See the caveats in the documentation: http://pandas.pydata.org/pandas-docs/stable/indexing.html#indexing-view-versus-copy\n",
      "  \"\"\"\n"
     ]
    },
    {
     "ename": "KeyError",
     "evalue": "7",
     "output_type": "error",
     "traceback": [
      "\u001b[1;31m---------------------------------------------------------------------------\u001b[0m",
      "\u001b[1;31mKeyError\u001b[0m                                  Traceback (most recent call last)",
      "\u001b[1;32m<ipython-input-95-35310ada6ca9>\u001b[0m in \u001b[0;36m<module>\u001b[1;34m()\u001b[0m\n\u001b[0;32m      3\u001b[0m     \u001b[1;31m#print(i)\u001b[0m\u001b[1;33m\u001b[0m\u001b[1;33m\u001b[0m\u001b[0m\n\u001b[0;32m      4\u001b[0m     \u001b[1;31m#print(a)\u001b[0m\u001b[1;33m\u001b[0m\u001b[1;33m\u001b[0m\u001b[0m\n\u001b[1;32m----> 5\u001b[1;33m     \u001b[0mdf\u001b[0m\u001b[1;33m[\u001b[0m\u001b[1;34m'short/long'\u001b[0m\u001b[1;33m]\u001b[0m\u001b[1;33m[\u001b[0m\u001b[0mi\u001b[0m\u001b[1;33m]\u001b[0m  \u001b[1;33m=\u001b[0m \u001b[0mclassify\u001b[0m\u001b[1;33m(\u001b[0m\u001b[0mdf\u001b[0m\u001b[1;33m[\u001b[0m\u001b[1;34m'Runtime (Minutes)'\u001b[0m\u001b[1;33m]\u001b[0m\u001b[1;33m[\u001b[0m\u001b[0mi\u001b[0m\u001b[1;33m]\u001b[0m\u001b[1;33m)\u001b[0m\u001b[1;33m\u001b[0m\u001b[0m\n\u001b[0m",
      "\u001b[1;32mc:\\users\\aadhi\\anaconda3\\lib\\site-packages\\pandas\\core\\series.py\u001b[0m in \u001b[0;36m__getitem__\u001b[1;34m(self, key)\u001b[0m\n\u001b[0;32m    866\u001b[0m         \u001b[0mkey\u001b[0m \u001b[1;33m=\u001b[0m \u001b[0mcom\u001b[0m\u001b[1;33m.\u001b[0m\u001b[0mapply_if_callable\u001b[0m\u001b[1;33m(\u001b[0m\u001b[0mkey\u001b[0m\u001b[1;33m,\u001b[0m \u001b[0mself\u001b[0m\u001b[1;33m)\u001b[0m\u001b[1;33m\u001b[0m\u001b[0m\n\u001b[0;32m    867\u001b[0m         \u001b[1;32mtry\u001b[0m\u001b[1;33m:\u001b[0m\u001b[1;33m\u001b[0m\u001b[0m\n\u001b[1;32m--> 868\u001b[1;33m             \u001b[0mresult\u001b[0m \u001b[1;33m=\u001b[0m \u001b[0mself\u001b[0m\u001b[1;33m.\u001b[0m\u001b[0mindex\u001b[0m\u001b[1;33m.\u001b[0m\u001b[0mget_value\u001b[0m\u001b[1;33m(\u001b[0m\u001b[0mself\u001b[0m\u001b[1;33m,\u001b[0m \u001b[0mkey\u001b[0m\u001b[1;33m)\u001b[0m\u001b[1;33m\u001b[0m\u001b[0m\n\u001b[0m\u001b[0;32m    869\u001b[0m \u001b[1;33m\u001b[0m\u001b[0m\n\u001b[0;32m    870\u001b[0m             \u001b[1;32mif\u001b[0m \u001b[1;32mnot\u001b[0m \u001b[0mis_scalar\u001b[0m\u001b[1;33m(\u001b[0m\u001b[0mresult\u001b[0m\u001b[1;33m)\u001b[0m\u001b[1;33m:\u001b[0m\u001b[1;33m\u001b[0m\u001b[0m\n",
      "\u001b[1;32mc:\\users\\aadhi\\anaconda3\\lib\\site-packages\\pandas\\core\\indexes\\base.py\u001b[0m in \u001b[0;36mget_value\u001b[1;34m(self, series, key)\u001b[0m\n\u001b[0;32m   4373\u001b[0m         \u001b[1;32mtry\u001b[0m\u001b[1;33m:\u001b[0m\u001b[1;33m\u001b[0m\u001b[0m\n\u001b[0;32m   4374\u001b[0m             return self._engine.get_value(s, k,\n\u001b[1;32m-> 4375\u001b[1;33m                                           tz=getattr(series.dtype, 'tz', None))\n\u001b[0m\u001b[0;32m   4376\u001b[0m         \u001b[1;32mexcept\u001b[0m \u001b[0mKeyError\u001b[0m \u001b[1;32mas\u001b[0m \u001b[0me1\u001b[0m\u001b[1;33m:\u001b[0m\u001b[1;33m\u001b[0m\u001b[0m\n\u001b[0;32m   4377\u001b[0m             \u001b[1;32mif\u001b[0m \u001b[0mlen\u001b[0m\u001b[1;33m(\u001b[0m\u001b[0mself\u001b[0m\u001b[1;33m)\u001b[0m \u001b[1;33m>\u001b[0m \u001b[1;36m0\u001b[0m \u001b[1;32mand\u001b[0m \u001b[1;33m(\u001b[0m\u001b[0mself\u001b[0m\u001b[1;33m.\u001b[0m\u001b[0mholds_integer\u001b[0m\u001b[1;33m(\u001b[0m\u001b[1;33m)\u001b[0m \u001b[1;32mor\u001b[0m \u001b[0mself\u001b[0m\u001b[1;33m.\u001b[0m\u001b[0mis_boolean\u001b[0m\u001b[1;33m(\u001b[0m\u001b[1;33m)\u001b[0m\u001b[1;33m)\u001b[0m\u001b[1;33m:\u001b[0m\u001b[1;33m\u001b[0m\u001b[0m\n",
      "\u001b[1;32mpandas\\_libs\\index.pyx\u001b[0m in \u001b[0;36mpandas._libs.index.IndexEngine.get_value\u001b[1;34m()\u001b[0m\n",
      "\u001b[1;32mpandas\\_libs\\index.pyx\u001b[0m in \u001b[0;36mpandas._libs.index.IndexEngine.get_value\u001b[1;34m()\u001b[0m\n",
      "\u001b[1;32mpandas\\_libs\\index.pyx\u001b[0m in \u001b[0;36mpandas._libs.index.IndexEngine.get_loc\u001b[1;34m()\u001b[0m\n",
      "\u001b[1;32mpandas\\_libs\\hashtable_class_helper.pxi\u001b[0m in \u001b[0;36mpandas._libs.hashtable.Int64HashTable.get_item\u001b[1;34m()\u001b[0m\n",
      "\u001b[1;32mpandas\\_libs\\hashtable_class_helper.pxi\u001b[0m in \u001b[0;36mpandas._libs.hashtable.Int64HashTable.get_item\u001b[1;34m()\u001b[0m\n",
      "\u001b[1;31mKeyError\u001b[0m: 7"
     ]
    }
   ],
   "source": [
    "df['short/long'] = None\n",
    "for i in range(0,len(df)):\n",
    "    #print(i)\n",
    "    #print(a)\n",
    "    df['short/long'][i]  = classify(df['Runtime (Minutes)'][i])"
   ]
  },
  {
   "cell_type": "code",
   "execution_count": null,
   "metadata": {},
   "outputs": [],
   "source": [
    "df['short/long'] = None\n",
    "for i,(a,b) in enumerate(zip(df['Runtime (Minutes)'],df['Year'])):\n",
    "    #print(i)\n",
    "    #print(a)\n",
    "    df['short/long'][i]  = classify(a)\n",
    "    print(b)"
   ]
  },
  {
   "cell_type": "code",
   "execution_count": 100,
   "metadata": {
    "collapsed": true
   },
   "outputs": [
    {
     "name": "stdout",
     "output_type": "stream",
     "text": [
      "the element is: 121 and its index is: 0\n",
      "the element is: 124 and its index is: 1\n",
      "the element is: 117 and its index is: 2\n",
      "the element is: 108 and its index is: 3\n",
      "the element is: 123 and its index is: 4\n",
      "the element is: 103 and its index is: 5\n",
      "the element is: 128 and its index is: 6\n",
      "the element is: 141 and its index is: 7\n",
      "the element is: 116 and its index is: 8\n",
      "the element is: 133 and its index is: 9\n",
      "the element is: 127 and its index is: 10\n",
      "the element is: 133 and its index is: 11\n",
      "the element is: 107 and its index is: 12\n",
      "the element is: 109 and its index is: 13\n",
      "the element is: 87 and its index is: 14\n",
      "the element is: 139 and its index is: 15\n",
      "the element is: 123 and its index is: 16\n",
      "the element is: 118 and its index is: 17\n",
      "the element is: 116 and its index is: 18\n",
      "the element is: 120 and its index is: 19\n",
      "the element is: 137 and its index is: 20\n",
      "the element is: 92 and its index is: 21\n",
      "the element is: 120 and its index is: 22\n",
      "the element is: 100 and its index is: 23\n",
      "the element is: 115 and its index is: 24\n",
      "the element is: 111 and its index is: 25\n",
      "the element is: 116 and its index is: 26\n",
      "the element is: 144 and its index is: 27\n",
      "the element is: 108 and its index is: 28\n",
      "the element is: 107 and its index is: 29\n",
      "the element is: 147 and its index is: 30\n",
      "the element is: 169 and its index is: 31\n",
      "the element is: 115 and its index is: 32\n",
      "the element is: 132 and its index is: 33\n",
      "the element is: 89 and its index is: 34\n",
      "the element is: 111 and its index is: 35\n",
      "the element is: 115 and its index is: 36\n",
      "the element is: 99 and its index is: 37\n",
      "the element is: 136 and its index is: 38\n",
      "the element is: 132 and its index is: 39\n",
      "the element is: 122 and its index is: 40\n",
      "the element is: 136 and its index is: 41\n",
      "the element is: 91 and its index is: 42\n",
      "the element is: 118 and its index is: 43\n",
      "the element is: 101 and its index is: 44\n",
      "the element is: 152 and its index is: 45\n",
      "the element is: 161 and its index is: 46\n",
      "the element is: 88 and its index is: 47\n",
      "the element is: 106 and its index is: 48\n",
      "the element is: 117 and its index is: 49\n",
      "the element is: 96 and its index is: 50\n",
      "the element is: 151 and its index is: 51\n",
      "the element is: 112 and its index is: 52\n",
      "the element is: 125 and its index is: 53\n",
      "the element is: 130 and its index is: 54\n",
      "the element is: 129 and its index is: 55\n",
      "the element is: 133 and its index is: 56\n",
      "the element is: 120 and its index is: 57\n",
      "the element is: 106 and its index is: 58\n",
      "the element is: 107 and its index is: 59\n",
      "the element is: 124 and its index is: 60\n",
      "the element is: 108 and its index is: 61\n",
      "the element is: 97 and its index is: 62\n",
      "the element is: 108 and its index is: 63\n",
      "the element is: 169 and its index is: 64\n",
      "the element is: 143 and its index is: 65\n",
      "the element is: 153 and its index is: 66\n",
      "the element is: 151 and its index is: 67\n",
      "the element is: 116 and its index is: 68\n",
      "the element is: 148 and its index is: 69\n",
      "the element is: 118 and its index is: 70\n",
      "the element is: 180 and its index is: 71\n",
      "the element is: 149 and its index is: 72\n",
      "the element is: 137 and its index is: 73\n",
      "the element is: 124 and its index is: 74\n",
      "the element is: 129 and its index is: 75\n",
      "the element is: 162 and its index is: 76\n",
      "the element is: 187 and its index is: 77\n",
      "the element is: 128 and its index is: 78\n",
      "the element is: 153 and its index is: 79\n",
      "the element is: 123 and its index is: 80\n",
      "the element is: 146 and its index is: 81\n",
      "the element is: 114 and its index is: 82\n",
      "the element is: 141 and its index is: 83\n",
      "the element is: 116 and its index is: 84\n",
      "the element is: 106 and its index is: 85\n",
      "the element is: 90 and its index is: 86\n",
      "the element is: 105 and its index is: 87\n",
      "the element is: 151 and its index is: 88\n",
      "the element is: 132 and its index is: 89\n",
      "the element is: 115 and its index is: 90\n",
      "the element is: 144 and its index is: 91\n",
      "the element is: 116 and its index is: 92\n",
      "the element is: 102 and its index is: 93\n",
      "the element is: 120 and its index is: 94\n",
      "the element is: 110 and its index is: 95\n",
      "the element is: 108 and its index is: 96\n",
      "the element is: 89 and its index is: 97\n",
      "the element is: 134 and its index is: 98\n",
      "the element is: 117 and its index is: 99\n",
      "the element is: 130 and its index is: 100\n",
      "the element is: 105 and its index is: 101\n",
      "the element is: 118 and its index is: 102\n",
      "the element is: 104 and its index is: 103\n",
      "the element is: 97 and its index is: 104\n",
      "the element is: 127 and its index is: 105\n",
      "the element is: 139 and its index is: 106\n",
      "the element is: 98 and its index is: 107\n",
      "the element is: 164 and its index is: 108\n",
      "the element is: 106 and its index is: 109\n",
      "the element is: 165 and its index is: 110\n",
      "the element is: 96 and its index is: 111\n",
      "the element is: 108 and its index is: 112\n",
      "the element is: 156 and its index is: 113\n",
      "the element is: 139 and its index is: 114\n",
      "the element is: 125 and its index is: 115\n",
      "the element is: 86 and its index is: 116\n",
      "the element is: 107 and its index is: 117\n",
      "the element is: 130 and its index is: 118\n",
      "the element is: 140 and its index is: 119\n",
      "the element is: 122 and its index is: 120\n",
      "the element is: 143 and its index is: 121\n",
      "the element is: 138 and its index is: 122\n",
      "the element is: 127 and its index is: 123\n",
      "the element is: 94 and its index is: 124\n",
      "the element is: 130 and its index is: 125\n",
      "the element is: 118 and its index is: 126\n",
      "the element is: 165 and its index is: 127\n",
      "the element is: 144 and its index is: 128\n",
      "the element is: 104 and its index is: 129\n",
      "the element is: 162 and its index is: 130\n",
      "the element is: 113 and its index is: 131\n",
      "the element is: 121 and its index is: 132\n",
      "the element is: 117 and its index is: 133\n",
      "the element is: 142 and its index is: 134\n",
      "the element is: 88 and its index is: 135\n",
      "the element is: 121 and its index is: 136\n",
      "the element is: 94 and its index is: 137\n",
      "the element is: 131 and its index is: 138\n",
      "the element is: 118 and its index is: 139\n",
      "the element is: 112 and its index is: 140\n",
      "the element is: 121 and its index is: 141\n",
      "the element is: 90 and its index is: 142\n",
      "the element is: 132 and its index is: 143\n",
      "the element is: 118 and its index is: 144\n",
      "the element is: 144 and its index is: 145\n",
      "the element is: 122 and its index is: 146\n",
      "the element is: 129 and its index is: 147\n",
      "the element is: 109 and its index is: 148\n",
      "the element is: 144 and its index is: 149\n",
      "the element is: 148 and its index is: 150\n",
      "the element is: 118 and its index is: 151\n",
      "the element is: 101 and its index is: 152\n",
      "the element is: 126 and its index is: 153\n",
      "the element is: 102 and its index is: 154\n",
      "the element is: 130 and its index is: 155\n",
      "the element is: 130 and its index is: 156\n",
      "the element is: 107 and its index is: 157\n",
      "the element is: 134 and its index is: 158\n",
      "the element is: 117 and its index is: 159\n",
      "the element is: 118 and its index is: 160\n",
      "the element is: 92 and its index is: 161\n",
      "the element is: 105 and its index is: 162\n",
      "the element is: 124 and its index is: 163\n",
      "the element is: 113 and its index is: 164\n",
      "the element is: 119 and its index is: 165\n",
      "the element is: 100 and its index is: 166\n",
      "the element is: 125 and its index is: 167\n",
      "the element is: 133 and its index is: 168\n",
      "the element is: 128 and its index is: 169\n",
      "the element is: 92 and its index is: 170\n",
      "the element is: 140 and its index is: 171\n",
      "the element is: 124 and its index is: 172\n",
      "the element is: 148 and its index is: 173\n",
      "the element is: 114 and its index is: 174\n",
      "the element is: 107 and its index is: 175\n",
      "the element is: 113 and its index is: 176\n",
      "the element is: 146 and its index is: 177\n",
      "the element is: 134 and its index is: 178\n",
      "the element is: 126 and its index is: 179\n",
      "the element is: 120 and its index is: 180\n",
      "the element is: 132 and its index is: 181\n",
      "the element is: 99 and its index is: 182\n",
      "the element is: 118 and its index is: 183\n",
      "the element is: 125 and its index is: 184\n",
      "the element is: 114 and its index is: 185\n",
      "the element is: 94 and its index is: 186\n",
      "the element is: 144 and its index is: 187\n",
      "the element is: 112 and its index is: 188\n",
      "the element is: 126 and its index is: 189\n",
      "the element is: 136 and its index is: 190\n",
      "the element is: 104 and its index is: 191\n",
      "the element is: 117 and its index is: 192\n",
      "the element is: 96 and its index is: 193\n",
      "the element is: 117 and its index is: 194\n",
      "the element is: 100 and its index is: 195\n",
      "the element is: 158 and its index is: 196\n",
      "the element is: 110 and its index is: 197\n",
      "the element is: 163 and its index is: 198\n",
      "the element is: 119 and its index is: 199\n",
      "the element is: 107 and its index is: 200\n",
      "the element is: 97 and its index is: 201\n",
      "the element is: 118 and its index is: 202\n",
      "the element is: 95 and its index is: 203\n",
      "the element is: 139 and its index is: 204\n",
      "the element is: 131 and its index is: 205\n",
      "the element is: 114 and its index is: 206\n",
      "the element is: 102 and its index is: 207\n",
      "the element is: 100 and its index is: 208\n",
      "the element is: 85 and its index is: 209\n",
      "the element is: 99 and its index is: 210\n",
      "the element is: 125 and its index is: 211\n",
      "the element is: 134 and its index is: 212\n",
      "the element is: 95 and its index is: 213\n",
      "the element is: 90 and its index is: 214\n",
      "the element is: 126 and its index is: 215\n",
      "the element is: 118 and its index is: 216\n",
      "the element is: 158 and its index is: 217\n",
      "the element is: 109 and its index is: 218\n",
      "the element is: 119 and its index is: 219\n",
      "the element is: 119 and its index is: 220\n",
      "the element is: 112 and its index is: 221\n",
      "the element is: 92 and its index is: 222\n",
      "the element is: 94 and its index is: 223\n",
      "the element is: 147 and its index is: 224\n",
      "the element is: 142 and its index is: 225\n",
      "the element is: 112 and its index is: 226\n",
      "the element is: 100 and its index is: 227\n",
      "the element is: 131 and its index is: 228\n",
      "the element is: 105 and its index is: 229\n",
      "the element is: 81 and its index is: 230\n",
      "the element is: 118 and its index is: 231\n",
      "the element is: 119 and its index is: 232\n",
      "the element is: 108 and its index is: 233\n",
      "the element is: 108 and its index is: 234\n",
      "the element is: 117 and its index is: 235\n",
      "the element is: 112 and its index is: 236\n",
      "the element is: 99 and its index is: 237\n",
      "the element is: 102 and its index is: 238\n",
      "the element is: 172 and its index is: 239\n",
      "the element is: 107 and its index is: 240\n",
      "the element is: 143 and its index is: 241\n",
      "the element is: 169 and its index is: 242\n",
      "the element is: 110 and its index is: 243\n",
      "the element is: 106 and its index is: 244\n",
      "the element is: 124 and its index is: 245\n",
      "the element is: 112 and its index is: 246\n",
      "the element is: 157 and its index is: 247\n",
      "the element is: 117 and its index is: 248\n",
      "the element is: 130 and its index is: 249\n",
      "the element is: 115 and its index is: 250\n",
      "the element is: 128 and its index is: 251\n",
      "the element is: 119 and its index is: 252\n",
      "the element is: 98 and its index is: 253\n",
      "the element is: 110 and its index is: 254\n",
      "the element is: 105 and its index is: 255\n",
      "the element is: 127 and its index is: 256\n",
      "the element is: 95 and its index is: 257\n",
      "the element is: 118 and its index is: 258\n",
      "the element is: 112 and its index is: 259\n",
      "the element is: 92 and its index is: 260\n",
      "the element is: 143 and its index is: 261\n",
      "the element is: 111 and its index is: 262\n",
      "the element is: 94 and its index is: 263\n",
      "the element is: 109 and its index is: 264\n",
      "the element is: 127 and its index is: 265\n",
      "the element is: 158 and its index is: 266\n",
      "the element is: 132 and its index is: 267\n",
      "the element is: 121 and its index is: 268\n",
      "the element is: 95 and its index is: 269\n",
      "the element is: 97 and its index is: 270\n",
      "the element is: 104 and its index is: 271\n",
      "the element is: 148 and its index is: 272\n",
      "the element is: 113 and its index is: 273\n",
      "the element is: 104 and its index is: 274\n",
      "the element is: 110 and its index is: 275\n",
      "the element is: 129 and its index is: 276\n",
      "the element is: 180 and its index is: 277\n",
      "the element is: 93 and its index is: 278\n",
      "the element is: 144 and its index is: 279\n",
      "the element is: 138 and its index is: 280\n",
      "the element is: 126 and its index is: 281\n",
      "the element is: 112 and its index is: 282\n",
      "the element is: 94 and its index is: 283\n",
      "the element is: 131 and its index is: 284\n",
      "the element is: 104 and its index is: 285\n",
      "the element is: 84 and its index is: 286\n",
      "the element is: 114 and its index is: 287\n",
      "the element is: 109 and its index is: 288\n",
      "the element is: 120 and its index is: 289\n",
      "the element is: 106 and its index is: 290\n",
      "the element is: 110 and its index is: 291\n",
      "the element is: 103 and its index is: 292\n",
      "the element is: 95 and its index is: 293\n",
      "the element is: 133 and its index is: 294\n",
      "the element is: 87 and its index is: 295\n",
      "the element is: 133 and its index is: 296\n",
      "the element is: 117 and its index is: 297\n",
      "the element is: 150 and its index is: 298\n",
      "the element is: 123 and its index is: 299\n",
      "the element is: 122 and its index is: 300\n",
      "the element is: 126 and its index is: 301\n",
      "the element is: 117 and its index is: 302\n",
      "the element is: 107 and its index is: 303\n",
      "the element is: 119 and its index is: 304\n",
      "the element is: 131 and its index is: 305\n",
      "the element is: 102 and its index is: 306\n",
      "the element is: 139 and its index is: 307\n",
      "the element is: 110 and its index is: 308\n",
      "the element is: 127 and its index is: 309\n",
      "the element is: 138 and its index is: 310\n",
      "the element is: 102 and its index is: 311\n",
      "the element is: 94 and its index is: 312\n",
      "the element is: 124 and its index is: 313\n",
      "the element is: 119 and its index is: 314\n",
      "the element is: 96 and its index is: 315\n",
      "the element is: 119 and its index is: 316\n",
      "the element is: 102 and its index is: 317\n",
      "the element is: 123 and its index is: 318\n",
      "the element is: 107 and its index is: 319\n",
      "the element is: 123 and its index is: 320\n",
      "the element is: 98 and its index is: 321\n",
      "the element is: 100 and its index is: 322\n",
      "the element is: 132 and its index is: 323\n",
      "the element is: 88 and its index is: 324\n",
      "the element is: 106 and its index is: 325\n",
      "the element is: 120 and its index is: 326\n",
      "the element is: 115 and its index is: 327\n",
      "the element is: 136 and its index is: 328\n",
      "the element is: 123 and its index is: 329\n",
      "the element is: 89 and its index is: 330\n",
      "the element is: 113 and its index is: 331\n",
      "the element is: 113 and its index is: 332\n",
      "the element is: 110 and its index is: 333\n",
      "the element is: 111 and its index is: 334\n",
      "the element is: 99 and its index is: 335\n",
      "the element is: 123 and its index is: 336\n",
      "the element is: 133 and its index is: 337\n",
      "the element is: 97 and its index is: 338\n",
      "the element is: 126 and its index is: 339\n",
      "the element is: 86 and its index is: 340\n",
      "the element is: 124 and its index is: 341\n",
      "the element is: 142 and its index is: 342\n",
      "the element is: 100 and its index is: 343\n",
      "the element is: 121 and its index is: 344\n",
      "the element is: 105 and its index is: 345\n",
      "the element is: 140 and its index is: 346\n",
      "the element is: 126 and its index is: 347\n",
      "the element is: 132 and its index is: 348\n",
      "the element is: 100 and its index is: 349\n",
      "the element is: 115 and its index is: 350\n",
      "the element is: 122 and its index is: 351\n",
      "the element is: 101 and its index is: 352\n",
      "the element is: 112 and its index is: 353\n",
      "the element is: 112 and its index is: 354\n",
      "the element is: 113 and its index is: 355\n",
      "the element is: 110 and its index is: 356\n",
      "the element is: 91 and its index is: 357\n",
      "the element is: 95 and its index is: 358\n",
      "the element is: 118 and its index is: 359\n",
      "the element is: 100 and its index is: 360\n",
      "the element is: 157 and its index is: 361\n",
      "the element is: 100 and its index is: 362\n",
      "the element is: 137 and its index is: 363\n",
      "the element is: 99 and its index is: 364\n",
      "the element is: 93 and its index is: 365\n",
      "the element is: 115 and its index is: 366\n",
      "the element is: 104 and its index is: 367\n",
      "the element is: 98 and its index is: 368\n",
      "the element is: 102 and its index is: 369\n",
      "the element is: 146 and its index is: 370\n",
      "the element is: 101 and its index is: 371\n",
      "the element is: 111 and its index is: 372\n",
      "the element is: 88 and its index is: 373\n",
      "the element is: 108 and its index is: 374\n",
      "the element is: 102 and its index is: 375\n",
      "the element is: 99 and its index is: 376\n",
      "the element is: 166 and its index is: 377\n",
      "the element is: 102 and its index is: 378\n",
      "the element is: 115 and its index is: 379\n",
      "the element is: 170 and its index is: 380\n",
      "the element is: 102 and its index is: 381\n",
      "the element is: 116 and its index is: 382\n",
      "the element is: 132 and its index is: 383\n",
      "the element is: 123 and its index is: 384\n",
      "the element is: 114 and its index is: 385\n",
      "the element is: 103 and its index is: 386\n",
      "the element is: 130 and its index is: 387\n",
      "the element is: 117 and its index is: 388\n",
      "the element is: 100 and its index is: 389\n",
      "the element is: 112 and its index is: 390\n",
      "the element is: 95 and its index is: 391\n",
      "the element is: 101 and its index is: 392\n",
      "the element is: 102 and its index is: 393\n",
      "the element is: 100 and its index is: 394\n",
      "the element is: 124 and its index is: 395\n",
      "the element is: 101 and its index is: 396\n",
      "the element is: 108 and its index is: 397\n",
      "the element is: 119 and its index is: 398\n",
      "the element is: 109 and its index is: 399\n",
      "the element is: 115 and its index is: 400\n",
      "the element is: 108 and its index is: 401\n",
      "the element is: 100 and its index is: 402\n",
      "the element is: 117 and its index is: 403\n",
      "the element is: 119 and its index is: 404\n",
      "the element is: 125 and its index is: 405\n",
      "the element is: 97 and its index is: 406\n",
      "the element is: 109 and its index is: 407\n",
      "the element is: 103 and its index is: 408\n",
      "the element is: 129 and its index is: 409\n",
      "the element is: 100 and its index is: 410\n",
      "the element is: 91 and its index is: 411\n",
      "the element is: 112 and its index is: 412\n",
      "the element is: 107 and its index is: 413\n",
      "the element is: 157 and its index is: 414\n",
      "the element is: 123 and its index is: 415\n",
      "the element is: 158 and its index is: 416\n",
      "the element is: 153 and its index is: 417\n",
      "the element is: 120 and its index is: 418\n",
      "the element is: 106 and its index is: 419\n",
      "the element is: 137 and its index is: 420\n",
      "the element is: 111 and its index is: 421\n",
      "the element is: 97 and its index is: 422\n",
      "the element is: 115 and its index is: 423\n",
      "the element is: 94 and its index is: 424\n",
      "the element is: 117 and its index is: 425\n",
      "the element is: 115 and its index is: 426\n",
      "the element is: 105 and its index is: 427\n",
      "the element is: 111 and its index is: 428\n",
      "the element is: 98 and its index is: 429\n",
      "the element is: 118 and its index is: 430\n",
      "the element is: 85 and its index is: 431\n",
      "the element is: 114 and its index is: 432\n",
      "the element is: 108 and its index is: 433\n",
      "the element is: 101 and its index is: 434\n",
      "the element is: 106 and its index is: 435\n",
      "the element is: 112 and its index is: 436\n",
      "the element is: 109 and its index is: 437\n",
      "the element is: 96 and its index is: 438\n",
      "the element is: 131 and its index is: 439\n",
      "the element is: 118 and its index is: 440\n",
      "the element is: 124 and its index is: 441\n",
      "the element is: 131 and its index is: 442\n",
      "the element is: 95 and its index is: 443\n",
      "the element is: 94 and its index is: 444\n",
      "the element is: 91 and its index is: 445\n",
      "the element is: 94 and its index is: 446\n",
      "the element is: 124 and its index is: 447\n",
      "the element is: 91 and its index is: 448\n",
      "the element is: 132 and its index is: 449\n",
      "the element is: 92 and its index is: 450\n",
      "the element is: 150 and its index is: 451\n",
      "the element is: 120 and its index is: 452\n",
      "the element is: 161 and its index is: 453\n",
      "the element is: 111 and its index is: 454\n",
      "the element is: 120 and its index is: 455\n",
      "the element is: 117 and its index is: 456\n",
      "the element is: 133 and its index is: 457\n",
      "the element is: 106 and its index is: 458\n",
      "the element is: 103 and its index is: 459\n",
      "the element is: 100 and its index is: 460\n",
      "the element is: 123 and its index is: 461\n",
      "the element is: 135 and its index is: 462\n",
      "the element is: 117 and its index is: 463\n",
      "the element is: 92 and its index is: 464\n",
      "the element is: 89 and its index is: 465\n",
      "the element is: 125 and its index is: 466\n",
      "the element is: 132 and its index is: 467\n",
      "the element is: 130 and its index is: 468\n",
      "the element is: 108 and its index is: 469\n",
      "the element is: 128 and its index is: 470\n",
      "the element is: 105 and its index is: 471\n",
      "the element is: 112 and its index is: 472\n",
      "the element is: 92 and its index is: 473\n",
      "the element is: 108 and its index is: 474\n",
      "the element is: 98 and its index is: 475\n",
      "the element is: 106 and its index is: 476\n",
      "the element is: 123 and its index is: 477\n",
      "the element is: 100 and its index is: 478\n",
      "the element is: 91 and its index is: 479\n",
      "the element is: 108 and its index is: 480\n",
      "the element is: 92 and its index is: 481\n",
      "the element is: 122 and its index is: 482\n",
      "the element is: 84 and its index is: 483\n",
      "the element is: 103 and its index is: 484\n",
      "the element is: 91 and its index is: 485\n",
      "the element is: 110 and its index is: 486\n",
      "the element is: 101 and its index is: 487\n",
      "the element is: 127 and its index is: 488\n",
      "the element is: 111 and its index is: 489\n",
      "the element is: 154 and its index is: 490\n",
      "the element is: 96 and its index is: 491\n",
      "the element is: 98 and its index is: 492\n",
      "the element is: 98 and its index is: 493\n",
      "the element is: 109 and its index is: 494\n",
      "the element is: 107 and its index is: 495\n",
      "the element is: 121 and its index is: 496\n",
      "the element is: 101 and its index is: 497\n",
      "the element is: 117 and its index is: 498\n",
      "the element is: 106 and its index is: 499\n",
      "the element is: 117 and its index is: 500\n",
      "the element is: 125 and its index is: 501\n",
      "the element is: 146 and its index is: 502\n",
      "the element is: 101 and its index is: 503\n",
      "the element is: 90 and its index is: 504\n",
      "the element is: 94 and its index is: 505\n",
      "the element is: 110 and its index is: 506\n",
      "the element is: 133 and its index is: 507\n",
      "the element is: 114 and its index is: 508\n",
      "the element is: 137 and its index is: 509\n",
      "the element is: 110 and its index is: 510\n",
      "the element is: 107 and its index is: 511\n",
      "the element is: 93 and its index is: 512\n",
      "the element is: 152 and its index is: 513\n",
      "the element is: 112 and its index is: 514\n",
      "the element is: 106 and its index is: 515\n",
      "the element is: 105 and its index is: 516\n",
      "the element is: 96 and its index is: 517\n",
      "the element is: 116 and its index is: 518\n",
      "the element is: 110 and its index is: 519\n",
      "the element is: 83 and its index is: 520\n",
      "the element is: 97 and its index is: 521\n",
      "the element is: 95 and its index is: 522\n",
      "the element is: 113 and its index is: 523\n",
      "the element is: 88 and its index is: 524\n",
      "the element is: 95 and its index is: 525\n",
      "the element is: 110 and its index is: 526\n",
      "the element is: 98 and its index is: 527\n",
      "the element is: 139 and its index is: 528\n",
      "the element is: 120 and its index is: 529\n",
      "the element is: 124 and its index is: 530\n",
      "the element is: 162 and its index is: 531\n",
      "the element is: 135 and its index is: 532\n",
      "the element is: 160 and its index is: 533\n",
      "the element is: 90 and its index is: 534\n",
      "the element is: 92 and its index is: 535\n",
      "the element is: 101 and its index is: 536\n",
      "the element is: 95 and its index is: 537\n",
      "the element is: 114 and its index is: 538\n",
      "the element is: 103 and its index is: 539\n",
      "the element is: 88 and its index is: 540\n",
      "the element is: 108 and its index is: 541\n",
      "the element is: 97 and its index is: 542\n",
      "the element is: 109 and its index is: 543\n",
      "the element is: 118 and its index is: 544\n",
      "the element is: 104 and its index is: 545\n",
      "the element is: 98 and its index is: 546\n",
      "the element is: 112 and its index is: 547\n",
      "the element is: 112 and its index is: 548\n",
      "the element is: 120 and its index is: 549\n",
      "the element is: 129 and its index is: 550\n",
      "the element is: 93 and its index is: 551\n",
      "the element is: 116 and its index is: 552\n",
      "the element is: 83 and its index is: 553\n",
      "the element is: 113 and its index is: 554\n",
      "the element is: 117 and its index is: 555\n",
      "the element is: 122 and its index is: 556\n",
      "the element is: 113 and its index is: 557\n",
      "the element is: 101 and its index is: 558\n",
      "the element is: 104 and its index is: 559\n",
      "the element is: 116 and its index is: 560\n",
      "the element is: 103 and its index is: 561\n",
      "the element is: 87 and its index is: 562\n",
      "the element is: 140 and its index is: 563\n",
      "the element is: 165 and its index is: 564\n",
      "the element is: 101 and its index is: 565\n",
      "the element is: 100 and its index is: 566\n",
      "the element is: 96 and its index is: 567\n",
      "the element is: 111 and its index is: 568\n",
      "the element is: 95 and its index is: 569\n",
      "the element is: 114 and its index is: 570\n",
      "the element is: 117 and its index is: 571\n",
      "the element is: 102 and its index is: 572\n",
      "the element is: 129 and its index is: 573\n",
      "the element is: 106 and its index is: 574\n",
      "the element is: 115 and its index is: 575\n",
      "the element is: 129 and its index is: 576\n",
      "the element is: 143 and its index is: 577\n",
      "the element is: 137 and its index is: 578\n",
      "the element is: 131 and its index is: 579\n",
      "the element is: 114 and its index is: 580\n",
      "the element is: 126 and its index is: 581\n",
      "the element is: 115 and its index is: 582\n",
      "the element is: 102 and its index is: 583\n",
      "the element is: 101 and its index is: 584\n",
      "the element is: 140 and its index is: 585\n",
      "the element is: 123 and its index is: 586\n",
      "the element is: 112 and its index is: 587\n",
      "the element is: 90 and its index is: 588\n",
      "the element is: 130 and its index is: 589\n",
      "the element is: 123 and its index is: 590\n",
      "the element is: 118 and its index is: 591\n",
      "the element is: 96 and its index is: 592\n",
      "the element is: 88 and its index is: 593\n",
      "the element is: 103 and its index is: 594\n",
      "the element is: 122 and its index is: 595\n",
      "the element is: 96 and its index is: 596\n",
      "the element is: 151 and its index is: 597\n",
      "the element is: 105 and its index is: 598\n",
      "the element is: 127 and its index is: 599\n",
      "the element is: 106 and its index is: 600\n",
      "the element is: 128 and its index is: 601\n",
      "the element is: 106 and its index is: 602\n",
      "the element is: 111 and its index is: 603\n",
      "the element is: 165 and its index is: 604\n",
      "the element is: 98 and its index is: 605\n",
      "the element is: 88 and its index is: 606\n",
      "the element is: 141 and its index is: 607\n",
      "the element is: 96 and its index is: 608\n",
      "the element is: 150 and its index is: 609\n",
      "the element is: 80 and its index is: 610\n",
      "the element is: 95 and its index is: 611\n",
      "the element is: 131 and its index is: 612\n",
      "the element is: 116 and its index is: 613\n",
      "the element is: 108 and its index is: 614\n",
      "the element is: 104 and its index is: 615\n",
      "the element is: 86 and its index is: 616\n",
      "the element is: 138 and its index is: 617\n",
      "the element is: 97 and its index is: 618\n",
      "the element is: 123 and its index is: 619\n",
      "the element is: 115 and its index is: 620\n",
      "the element is: 102 and its index is: 621\n",
      "the element is: 89 and its index is: 622\n",
      "the element is: 140 and its index is: 623\n",
      "the element is: 113 and its index is: 624\n",
      "the element is: 109 and its index is: 625\n",
      "the element is: 110 and its index is: 626\n",
      "the element is: 117 and its index is: 627\n",
      "the element is: 100 and its index is: 628\n",
      "the element is: 119 and its index is: 629\n",
      "the element is: 104 and its index is: 630\n",
      "the element is: 149 and its index is: 631\n",
      "the element is: 104 and its index is: 632\n",
      "the element is: 126 and its index is: 633\n",
      "the element is: 93 and its index is: 634\n",
      "the element is: 128 and its index is: 635\n",
      "the element is: 118 and its index is: 636\n",
      "the element is: 112 and its index is: 637\n",
      "the element is: 99 and its index is: 638\n",
      "the element is: 111 and its index is: 639\n",
      "the element is: 129 and its index is: 640\n",
      "the element is: 110 and its index is: 641\n",
      "the element is: 96 and its index is: 642\n",
      "the element is: 116 and its index is: 643\n",
      "the element is: 99 and its index is: 644\n",
      "the element is: 106 and its index is: 645\n",
      "the element is: 113 and its index is: 646\n",
      "the element is: 104 and its index is: 647\n",
      "the element is: 107 and its index is: 648\n",
      "the element is: 103 and its index is: 649\n",
      "the element is: 116 and its index is: 650\n",
      "the element is: 114 and its index is: 651\n",
      "the element is: 114 and its index is: 652\n",
      "the element is: 102 and its index is: 653\n",
      "the element is: 118 and its index is: 654\n",
      "the element is: 85 and its index is: 655\n",
      "the element is: 153 and its index is: 656\n",
      "the element is: 122 and its index is: 657\n",
      "the element is: 109 and its index is: 658\n",
      "the element is: 119 and its index is: 659\n",
      "the element is: 106 and its index is: 660\n",
      "the element is: 98 and its index is: 661\n",
      "the element is: 110 and its index is: 662\n",
      "the element is: 96 and its index is: 663\n",
      "the element is: 106 and its index is: 664\n",
      "the element is: 102 and its index is: 665\n",
      "the element is: 113 and its index is: 666\n",
      "the element is: 117 and its index is: 667\n",
      "the element is: 120 and its index is: 668\n",
      "the element is: 95 and its index is: 669\n",
      "the element is: 134 and its index is: 670\n",
      "the element is: 92 and its index is: 671\n",
      "the element is: 89 and its index is: 672\n",
      "the element is: 92 and its index is: 673\n",
      "the element is: 118 and its index is: 674\n",
      "the element is: 111 and its index is: 675\n",
      "the element is: 101 and its index is: 676\n",
      "the element is: 66 and its index is: 677\n",
      "the element is: 102 and its index is: 678\n",
      "the element is: 108 and its index is: 679\n",
      "the element is: 120 and its index is: 680\n",
      "the element is: 98 and its index is: 681\n",
      "the element is: 114 and its index is: 682\n",
      "the element is: 109 and its index is: 683\n",
      "the element is: 110 and its index is: 684\n",
      "the element is: 115 and its index is: 685\n",
      "the element is: 105 and its index is: 686\n",
      "the element is: 104 and its index is: 687\n",
      "the element is: 111 and its index is: 688\n",
      "the element is: 116 and its index is: 689\n",
      "the element is: 95 and its index is: 690\n",
      "the element is: 111 and its index is: 691\n",
      "the element is: 93 and its index is: 692\n",
      "the element is: 100 and its index is: 693\n",
      "the element is: 123 and its index is: 694\n",
      "the element is: 112 and its index is: 695\n",
      "the element is: 87 and its index is: 696\n",
      "the element is: 129 and its index is: 697\n",
      "the element is: 94 and its index is: 698\n",
      "the element is: 99 and its index is: 699\n",
      "the element is: 123 and its index is: 700\n",
      "the element is: 118 and its index is: 701\n",
      "the element is: 119 and its index is: 702\n",
      "the element is: 87 and its index is: 703\n",
      "the element is: 102 and its index is: 704\n",
      "the element is: 94 and its index is: 705\n",
      "the element is: 120 and its index is: 706\n",
      "the element is: 112 and its index is: 707\n",
      "the element is: 83 and its index is: 708\n",
      "the element is: 108 and its index is: 709\n",
      "the element is: 128 and its index is: 710\n",
      "the element is: 113 and its index is: 711\n",
      "the element is: 108 and its index is: 712\n",
      "the element is: 125 and its index is: 713\n",
      "the element is: 135 and its index is: 714\n",
      "the element is: 97 and its index is: 715\n",
      "the element is: 98 and its index is: 716\n",
      "the element is: 138 and its index is: 717\n",
      "the element is: 94 and its index is: 718\n",
      "the element is: 131 and its index is: 719\n",
      "the element is: 128 and its index is: 720\n",
      "the element is: 123 and its index is: 721\n",
      "the element is: 104 and its index is: 722\n",
      "the element is: 116 and its index is: 723\n",
      "the element is: 96 and its index is: 724\n",
      "the element is: 92 and its index is: 725\n",
      "the element is: 111 and its index is: 726\n",
      "the element is: 115 and its index is: 727\n",
      "the element is: 123 and its index is: 728\n",
      "the element is: 107 and its index is: 729\n",
      "the element is: 141 and its index is: 730\n",
      "the element is: 113 and its index is: 731\n",
      "the element is: 81 and its index is: 732\n",
      "the element is: 85 and its index is: 733\n",
      "the element is: 120 and its index is: 734\n",
      "the element is: 110 and its index is: 735\n",
      "the element is: 122 and its index is: 736\n",
      "the element is: 99 and its index is: 737\n",
      "the element is: 126 and its index is: 738\n",
      "the element is: 116 and its index is: 739\n",
      "the element is: 85 and its index is: 740\n",
      "the element is: 93 and its index is: 741\n",
      "the element is: 107 and its index is: 742\n",
      "the element is: 114 and its index is: 743\n",
      "the element is: 100 and its index is: 744\n",
      "the element is: 98 and its index is: 745\n",
      "the element is: 98 and its index is: 746\n",
      "the element is: 110 and its index is: 747\n",
      "the element is: 99 and its index is: 748\n",
      "the element is: 120 and its index is: 749\n",
      "the element is: 125 and its index is: 750\n",
      "the element is: 119 and its index is: 751\n",
      "the element is: 96 and its index is: 752\n",
      "the element is: 101 and its index is: 753\n",
      "the element is: 143 and its index is: 754\n",
      "the element is: 139 and its index is: 755\n",
      "the element is: 101 and its index is: 756\n",
      "the element is: 88 and its index is: 757\n",
      "the element is: 100 and its index is: 758\n",
      "the element is: 127 and its index is: 759\n",
      "the element is: 145 and its index is: 760\n",
      "the element is: 92 and its index is: 761\n",
      "the element is: 117 and its index is: 762\n",
      "the element is: 96 and its index is: 763\n",
      "the element is: 89 and its index is: 764\n",
      "the element is: 101 and its index is: 765\n",
      "the element is: 105 and its index is: 766\n",
      "the element is: 98 and its index is: 767\n",
      "the element is: 102 and its index is: 768\n",
      "the element is: 117 and its index is: 769\n",
      "the element is: 95 and its index is: 770\n",
      "the element is: 122 and its index is: 771\n",
      "the element is: 95 and its index is: 772\n",
      "the element is: 106 and its index is: 773\n",
      "the element is: 133 and its index is: 774\n",
      "the element is: 96 and its index is: 775\n",
      "the element is: 89 and its index is: 776\n",
      "the element is: 122 and its index is: 777\n",
      "the element is: 156 and its index is: 778\n",
      "the element is: 103 and its index is: 779\n",
      "the element is: 147 and its index is: 780\n",
      "the element is: 113 and its index is: 781\n",
      "the element is: 97 and its index is: 782\n",
      "the element is: 93 and its index is: 783\n",
      "the element is: 102 and its index is: 784\n",
      "the element is: 103 and its index is: 785\n",
      "the element is: 154 and its index is: 786\n",
      "the element is: 117 and its index is: 787\n",
      "the element is: 110 and its index is: 788\n",
      "the element is: 110 and its index is: 789\n",
      "the element is: 113 and its index is: 790\n",
      "the element is: 107 and its index is: 791\n",
      "the element is: 120 and its index is: 792\n",
      "the element is: 108 and its index is: 793\n",
      "the element is: 92 and its index is: 794\n",
      "the element is: 96 and its index is: 795\n",
      "the element is: 98 and its index is: 796\n",
      "the element is: 124 and its index is: 797\n",
      "the element is: 106 and its index is: 798\n",
      "the element is: 119 and its index is: 799\n",
      "the element is: 91 and its index is: 800\n",
      "the element is: 100 and its index is: 801\n",
      "the element is: 80 and its index is: 802\n",
      "the element is: 105 and its index is: 803\n",
      "the element is: 115 and its index is: 804\n",
      "the element is: 146 and its index is: 805\n",
      "the element is: 95 and its index is: 806\n",
      "the element is: 105 and its index is: 807\n",
      "the element is: 94 and its index is: 808\n",
      "the element is: 100 and its index is: 809\n",
      "the element is: 109 and its index is: 810\n",
      "the element is: 117 and its index is: 811\n",
      "the element is: 110 and its index is: 812\n",
      "the element is: 101 and its index is: 813\n",
      "the element is: 101 and its index is: 814\n",
      "the element is: 115 and its index is: 815\n",
      "the element is: 108 and its index is: 816\n",
      "the element is: 92 and its index is: 817\n",
      "the element is: 123 and its index is: 818\n",
      "the element is: 111 and its index is: 819\n",
      "the element is: 124 and its index is: 820\n",
      "the element is: 94 and its index is: 821\n",
      "the element is: 120 and its index is: 822\n",
      "the element is: 109 and its index is: 823\n",
      "the element is: 118 and its index is: 824\n",
      "the element is: 133 and its index is: 825\n",
      "the element is: 104 and its index is: 826\n",
      "the element is: 111 and its index is: 827\n",
      "the element is: 102 and its index is: 828\n",
      "the element is: 92 and its index is: 829\n",
      "the element is: 104 and its index is: 830\n",
      "the element is: 92 and its index is: 831\n",
      "the element is: 165 and its index is: 832\n",
      "the element is: 97 and its index is: 833\n",
      "the element is: 88 and its index is: 834\n",
      "the element is: 94 and its index is: 835\n",
      "the element is: 98 and its index is: 836\n",
      "the element is: 87 and its index is: 837\n"
     ]
    }
   ],
   "source": [
    "df['short/long'] = None\n",
    "for i,a in enumerate(df['Runtime (Minutes)']):\n",
    "    #print(i)\n",
    "    #print(a)\n",
    "    print(\"the element is: {} and its index is: {}\".format(a,i))\n",
    "    #df['short/long'][i]  = classify(a)"
   ]
  },
  {
   "cell_type": "code",
   "execution_count": 94,
   "metadata": {
    "collapsed": true
   },
   "outputs": [
    {
     "data": {
      "text/html": [
       "<div>\n",
       "<style scoped>\n",
       "    .dataframe tbody tr th:only-of-type {\n",
       "        vertical-align: middle;\n",
       "    }\n",
       "\n",
       "    .dataframe tbody tr th {\n",
       "        vertical-align: top;\n",
       "    }\n",
       "\n",
       "    .dataframe thead th {\n",
       "        text-align: right;\n",
       "    }\n",
       "</style>\n",
       "<table border=\"1\" class=\"dataframe\">\n",
       "  <thead>\n",
       "    <tr style=\"text-align: right;\">\n",
       "      <th></th>\n",
       "      <th>Rank</th>\n",
       "      <th>Title</th>\n",
       "      <th>Genre</th>\n",
       "      <th>Description</th>\n",
       "      <th>Director</th>\n",
       "      <th>Actors</th>\n",
       "      <th>Year</th>\n",
       "      <th>Runtime (Minutes)</th>\n",
       "      <th>Rating</th>\n",
       "      <th>Votes</th>\n",
       "      <th>Revenue (Millions)</th>\n",
       "      <th>Metascore</th>\n",
       "      <th>short/long</th>\n",
       "    </tr>\n",
       "  </thead>\n",
       "  <tbody>\n",
       "    <tr>\n",
       "      <th>0</th>\n",
       "      <td>1</td>\n",
       "      <td>Guardians of the Galaxy</td>\n",
       "      <td>Action,Adventure,Sci-Fi</td>\n",
       "      <td>A group of intergalactic criminals are forced ...</td>\n",
       "      <td>James Gunn</td>\n",
       "      <td>Chris Pratt, Vin Diesel, Bradley Cooper, Zoe S...</td>\n",
       "      <td>2014</td>\n",
       "      <td>121</td>\n",
       "      <td>8.1</td>\n",
       "      <td>757074</td>\n",
       "      <td>333.13</td>\n",
       "      <td>76.0</td>\n",
       "      <td>long</td>\n",
       "    </tr>\n",
       "    <tr>\n",
       "      <th>1</th>\n",
       "      <td>2</td>\n",
       "      <td>Prometheus</td>\n",
       "      <td>Adventure,Mystery,Sci-Fi</td>\n",
       "      <td>Following clues to the origin of mankind, a te...</td>\n",
       "      <td>Ridley Scott</td>\n",
       "      <td>Noomi Rapace, Logan Marshall-Green, Michael Fa...</td>\n",
       "      <td>2012</td>\n",
       "      <td>124</td>\n",
       "      <td>7.0</td>\n",
       "      <td>485820</td>\n",
       "      <td>126.46</td>\n",
       "      <td>65.0</td>\n",
       "      <td>long</td>\n",
       "    </tr>\n",
       "    <tr>\n",
       "      <th>2</th>\n",
       "      <td>3</td>\n",
       "      <td>Split</td>\n",
       "      <td>Horror,Thriller</td>\n",
       "      <td>Three girls are kidnapped by a man with a diag...</td>\n",
       "      <td>M. Night Shyamalan</td>\n",
       "      <td>James McAvoy, Anya Taylor-Joy, Haley Lu Richar...</td>\n",
       "      <td>2016</td>\n",
       "      <td>117</td>\n",
       "      <td>7.3</td>\n",
       "      <td>157606</td>\n",
       "      <td>138.12</td>\n",
       "      <td>62.0</td>\n",
       "      <td>long</td>\n",
       "    </tr>\n",
       "    <tr>\n",
       "      <th>3</th>\n",
       "      <td>4</td>\n",
       "      <td>Sing</td>\n",
       "      <td>Animation,Comedy,Family</td>\n",
       "      <td>In a city of humanoid animals, a hustling thea...</td>\n",
       "      <td>Christophe Lourdelet</td>\n",
       "      <td>Matthew McConaughey,Reese Witherspoon, Seth Ma...</td>\n",
       "      <td>2016</td>\n",
       "      <td>108</td>\n",
       "      <td>7.2</td>\n",
       "      <td>60545</td>\n",
       "      <td>270.32</td>\n",
       "      <td>59.0</td>\n",
       "      <td>short</td>\n",
       "    </tr>\n",
       "    <tr>\n",
       "      <th>4</th>\n",
       "      <td>5</td>\n",
       "      <td>Suicide Squad</td>\n",
       "      <td>Action,Adventure,Fantasy</td>\n",
       "      <td>A secret government agency recruits some of th...</td>\n",
       "      <td>David Ayer</td>\n",
       "      <td>Will Smith, Jared Leto, Margot Robbie, Viola D...</td>\n",
       "      <td>2016</td>\n",
       "      <td>123</td>\n",
       "      <td>6.2</td>\n",
       "      <td>393727</td>\n",
       "      <td>325.02</td>\n",
       "      <td>40.0</td>\n",
       "      <td>long</td>\n",
       "    </tr>\n",
       "  </tbody>\n",
       "</table>\n",
       "</div>"
      ],
      "text/plain": [
       "   Rank                    Title                     Genre  \\\n",
       "0     1  Guardians of the Galaxy   Action,Adventure,Sci-Fi   \n",
       "1     2               Prometheus  Adventure,Mystery,Sci-Fi   \n",
       "2     3                    Split           Horror,Thriller   \n",
       "3     4                     Sing   Animation,Comedy,Family   \n",
       "4     5            Suicide Squad  Action,Adventure,Fantasy   \n",
       "\n",
       "                                         Description              Director  \\\n",
       "0  A group of intergalactic criminals are forced ...            James Gunn   \n",
       "1  Following clues to the origin of mankind, a te...          Ridley Scott   \n",
       "2  Three girls are kidnapped by a man with a diag...    M. Night Shyamalan   \n",
       "3  In a city of humanoid animals, a hustling thea...  Christophe Lourdelet   \n",
       "4  A secret government agency recruits some of th...            David Ayer   \n",
       "\n",
       "                                              Actors  Year  Runtime (Minutes)  \\\n",
       "0  Chris Pratt, Vin Diesel, Bradley Cooper, Zoe S...  2014                121   \n",
       "1  Noomi Rapace, Logan Marshall-Green, Michael Fa...  2012                124   \n",
       "2  James McAvoy, Anya Taylor-Joy, Haley Lu Richar...  2016                117   \n",
       "3  Matthew McConaughey,Reese Witherspoon, Seth Ma...  2016                108   \n",
       "4  Will Smith, Jared Leto, Margot Robbie, Viola D...  2016                123   \n",
       "\n",
       "   Rating   Votes  Revenue (Millions)  Metascore short/long  \n",
       "0     8.1  757074              333.13       76.0       long  \n",
       "1     7.0  485820              126.46       65.0       long  \n",
       "2     7.3  157606              138.12       62.0       long  \n",
       "3     7.2   60545              270.32       59.0      short  \n",
       "4     6.2  393727              325.02       40.0       long  "
      ]
     },
     "execution_count": 94,
     "metadata": {},
     "output_type": "execute_result"
    }
   ],
   "source": [
    "df.head()"
   ]
  },
  {
   "cell_type": "markdown",
   "metadata": {},
   "source": [
    "## Reduce"
   ]
  },
  {
   "cell_type": "code",
   "execution_count": 101,
   "metadata": {},
   "outputs": [],
   "source": [
    "from functools import reduce"
   ]
  },
  {
   "cell_type": "code",
   "execution_count": 110,
   "metadata": {},
   "outputs": [],
   "source": [
    "lst = [1,2,3,4,5,6,7]\n",
    "def sum_numbers(first,second):\n",
    "    return first+second\n",
    "summed_value = reduce(sum_numbers,lst)"
   ]
  },
  {
   "cell_type": "code",
   "execution_count": 114,
   "metadata": {},
   "outputs": [],
   "source": [
    "summed_value = reduce(sum_numbers,lst,10)"
   ]
  },
  {
   "cell_type": "code",
   "execution_count": 116,
   "metadata": {},
   "outputs": [],
   "source": [
    "summed_value = reduce(sum_numbers,lst,20)"
   ]
  },
  {
   "cell_type": "code",
   "execution_count": 118,
   "metadata": {},
   "outputs": [],
   "source": [
    "summed_value = reduce(sum_numbers,lst,30)"
   ]
  },
  {
   "cell_type": "code",
   "execution_count": null,
   "metadata": {},
   "outputs": [],
   "source": [
    "[1,2,3,4,5,6,7]\n",
    "[3,3,4,5,6,7]\n",
    "[6,4,5,6,7]\n",
    "[10,5,6,7]\n",
    "[15,6,7]\n",
    "[21,7]\n",
    "[28]"
   ]
  },
  {
   "cell_type": "code",
   "execution_count": 115,
   "metadata": {},
   "outputs": [
    {
     "data": {
      "text/plain": [
       "38"
      ]
     },
     "execution_count": 115,
     "metadata": {},
     "output_type": "execute_result"
    }
   ],
   "source": [
    "summed_value"
   ]
  },
  {
   "cell_type": "code",
   "execution_count": 117,
   "metadata": {},
   "outputs": [
    {
     "data": {
      "text/plain": [
       "48"
      ]
     },
     "execution_count": 117,
     "metadata": {},
     "output_type": "execute_result"
    }
   ],
   "source": [
    "summed_value"
   ]
  },
  {
   "cell_type": "code",
   "execution_count": 119,
   "metadata": {},
   "outputs": [
    {
     "data": {
      "text/plain": [
       "58"
      ]
     },
     "execution_count": 119,
     "metadata": {},
     "output_type": "execute_result"
    }
   ],
   "source": [
    "summed_value"
   ]
  },
  {
   "cell_type": "code",
   "execution_count": 113,
   "metadata": {
    "scrolled": true
   },
   "outputs": [
    {
     "ename": "TypeError",
     "evalue": "sum_numbers() missing 1 required positional argument: 'second'",
     "output_type": "error",
     "traceback": [
      "\u001b[1;31m---------------------------------------------------------------------------\u001b[0m",
      "\u001b[1;31mTypeError\u001b[0m                                 Traceback (most recent call last)",
      "\u001b[1;32m<ipython-input-113-07903419f792>\u001b[0m in \u001b[0;36m<module>\u001b[1;34m()\u001b[0m\n\u001b[1;32m----> 1\u001b[1;33m \u001b[0msummed_value\u001b[0m \u001b[1;33m=\u001b[0m \u001b[0mlist\u001b[0m\u001b[1;33m(\u001b[0m\u001b[0mmap\u001b[0m\u001b[1;33m(\u001b[0m\u001b[0msum_numbers\u001b[0m\u001b[1;33m,\u001b[0m\u001b[0mlst\u001b[0m\u001b[1;33m)\u001b[0m\u001b[1;33m)\u001b[0m\u001b[1;33m\u001b[0m\u001b[0m\n\u001b[0m",
      "\u001b[1;31mTypeError\u001b[0m: sum_numbers() missing 1 required positional argument: 'second'"
     ]
    }
   ],
   "source": [
    "summed_value = list(map(sum_numbers,lst))"
   ]
  },
  {
   "cell_type": "code",
   "execution_count": 107,
   "metadata": {},
   "outputs": [],
   "source": [
    "def sum_numbers_map(first):\n",
    "    return first+10"
   ]
  },
  {
   "cell_type": "code",
   "execution_count": 108,
   "metadata": {},
   "outputs": [],
   "source": [
    "summed_value = map(sum_numbers_map,lst)"
   ]
  },
  {
   "cell_type": "code",
   "execution_count": 109,
   "metadata": {},
   "outputs": [
    {
     "data": {
      "text/plain": [
       "[11, 12, 13, 14, 15, 16, 17, 20]"
      ]
     },
     "execution_count": 109,
     "metadata": {},
     "output_type": "execute_result"
    }
   ],
   "source": [
    "list(summed_value)"
   ]
  }
 ],
 "metadata": {
  "kernelspec": {
   "display_name": "Python 3",
   "language": "python",
   "name": "python3"
  },
  "language_info": {
   "codemirror_mode": {
    "name": "ipython",
    "version": 3
   },
   "file_extension": ".py",
   "mimetype": "text/x-python",
   "name": "python",
   "nbconvert_exporter": "python",
   "pygments_lexer": "ipython3",
   "version": "3.7.6"
  }
 },
 "nbformat": 4,
 "nbformat_minor": 2
}
