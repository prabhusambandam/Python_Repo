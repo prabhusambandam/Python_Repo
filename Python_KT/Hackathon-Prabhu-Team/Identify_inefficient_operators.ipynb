{
 "cells": [
  {
   "cell_type": "code",
   "execution_count": 30,
   "metadata": {
    "scrolled": false
   },
   "outputs": [
    {
     "data": {
      "text/html": [
       "<div>\n",
       "<style scoped>\n",
       "    .dataframe tbody tr th:only-of-type {\n",
       "        vertical-align: middle;\n",
       "    }\n",
       "\n",
       "    .dataframe tbody tr th {\n",
       "        vertical-align: top;\n",
       "    }\n",
       "\n",
       "    .dataframe thead th {\n",
       "        text-align: right;\n",
       "    }\n",
       "</style>\n",
       "<table border=\"1\" class=\"dataframe\">\n",
       "  <thead>\n",
       "    <tr style=\"text-align: right;\">\n",
       "      <th></th>\n",
       "      <th>Report Number</th>\n",
       "      <th>Supplemental Number</th>\n",
       "      <th>Accident Year</th>\n",
       "      <th>Accident Date/Time</th>\n",
       "      <th>Operator Name</th>\n",
       "      <th>Pipeline/Facility Name</th>\n",
       "      <th>Pipeline Location</th>\n",
       "      <th>Pipeline Type</th>\n",
       "      <th>Liquid Type</th>\n",
       "      <th>Liquid Subtype</th>\n",
       "      <th>...</th>\n",
       "      <th>Other Fatalities</th>\n",
       "      <th>Public Fatalities</th>\n",
       "      <th>All Fatalities</th>\n",
       "      <th>Property Damage Costs</th>\n",
       "      <th>Lost Commodity Costs</th>\n",
       "      <th>Public/Private Property Damage Costs</th>\n",
       "      <th>Emergency Response Costs</th>\n",
       "      <th>Environmental Remediation Costs</th>\n",
       "      <th>Other Costs</th>\n",
       "      <th>All Costs</th>\n",
       "    </tr>\n",
       "    <tr>\n",
       "      <th>Operator ID</th>\n",
       "      <th></th>\n",
       "      <th></th>\n",
       "      <th></th>\n",
       "      <th></th>\n",
       "      <th></th>\n",
       "      <th></th>\n",
       "      <th></th>\n",
       "      <th></th>\n",
       "      <th></th>\n",
       "      <th></th>\n",
       "      <th></th>\n",
       "      <th></th>\n",
       "      <th></th>\n",
       "      <th></th>\n",
       "      <th></th>\n",
       "      <th></th>\n",
       "      <th></th>\n",
       "      <th></th>\n",
       "      <th></th>\n",
       "      <th></th>\n",
       "      <th></th>\n",
       "    </tr>\n",
       "  </thead>\n",
       "  <tbody>\n",
       "    <tr>\n",
       "      <th>32109</th>\n",
       "      <td>20100016</td>\n",
       "      <td>17305</td>\n",
       "      <td>2010</td>\n",
       "      <td>1/1/2010 7:15 AM</td>\n",
       "      <td>ONEOK NGL PIPELINE LP</td>\n",
       "      <td>KINDER MORGAN JCT</td>\n",
       "      <td>ONSHORE</td>\n",
       "      <td>ABOVEGROUND</td>\n",
       "      <td>HVL OR OTHER FLAMMABLE OR TOXIC FLUID, GAS</td>\n",
       "      <td>LPG (LIQUEFIED PETROLEUM GAS) / NGL (NATURAL G...</td>\n",
       "      <td>...</td>\n",
       "      <td>NaN</td>\n",
       "      <td>NaN</td>\n",
       "      <td>NaN</td>\n",
       "      <td>110.0</td>\n",
       "      <td>1517.0</td>\n",
       "      <td>0.0</td>\n",
       "      <td>0.0</td>\n",
       "      <td>0.0</td>\n",
       "      <td>0.0</td>\n",
       "      <td>1627</td>\n",
       "    </tr>\n",
       "    <tr>\n",
       "      <th>15786</th>\n",
       "      <td>20100254</td>\n",
       "      <td>17331</td>\n",
       "      <td>2010</td>\n",
       "      <td>1/4/2010 8:30 AM</td>\n",
       "      <td>PORTLAND PIPELINE CORP</td>\n",
       "      <td>24-INCH MAIN LINE</td>\n",
       "      <td>ONSHORE</td>\n",
       "      <td>ABOVEGROUND</td>\n",
       "      <td>CRUDE OIL</td>\n",
       "      <td>NaN</td>\n",
       "      <td>...</td>\n",
       "      <td>NaN</td>\n",
       "      <td>NaN</td>\n",
       "      <td>NaN</td>\n",
       "      <td>4000.0</td>\n",
       "      <td>8.0</td>\n",
       "      <td>0.0</td>\n",
       "      <td>0.0</td>\n",
       "      <td>0.0</td>\n",
       "      <td>0.0</td>\n",
       "      <td>4008</td>\n",
       "    </tr>\n",
       "    <tr>\n",
       "      <th>20160</th>\n",
       "      <td>20100038</td>\n",
       "      <td>17747</td>\n",
       "      <td>2010</td>\n",
       "      <td>1/5/2010 10:30 AM</td>\n",
       "      <td>PETROLOGISTICS OLEFINS, LLC</td>\n",
       "      <td>NaN</td>\n",
       "      <td>ONSHORE</td>\n",
       "      <td>ABOVEGROUND</td>\n",
       "      <td>HVL OR OTHER FLAMMABLE OR TOXIC FLUID, GAS</td>\n",
       "      <td>OTHER HVL</td>\n",
       "      <td>...</td>\n",
       "      <td>NaN</td>\n",
       "      <td>NaN</td>\n",
       "      <td>NaN</td>\n",
       "      <td>0.0</td>\n",
       "      <td>200.0</td>\n",
       "      <td>0.0</td>\n",
       "      <td>0.0</td>\n",
       "      <td>0.0</td>\n",
       "      <td>0.0</td>\n",
       "      <td>200</td>\n",
       "    </tr>\n",
       "    <tr>\n",
       "      <th>11169</th>\n",
       "      <td>20100260</td>\n",
       "      <td>18574</td>\n",
       "      <td>2010</td>\n",
       "      <td>1/6/2010 7:30 PM</td>\n",
       "      <td>ENBRIDGE ENERGY, LIMITED PARTNERSHIP</td>\n",
       "      <td>SUPERIOR TERMINAL</td>\n",
       "      <td>ONSHORE</td>\n",
       "      <td>UNDERGROUND</td>\n",
       "      <td>CRUDE OIL</td>\n",
       "      <td>NaN</td>\n",
       "      <td>...</td>\n",
       "      <td>NaN</td>\n",
       "      <td>NaN</td>\n",
       "      <td>NaN</td>\n",
       "      <td>200.0</td>\n",
       "      <td>40.0</td>\n",
       "      <td>0.0</td>\n",
       "      <td>11300.0</td>\n",
       "      <td>0.0</td>\n",
       "      <td>0.0</td>\n",
       "      <td>11540</td>\n",
       "    </tr>\n",
       "    <tr>\n",
       "      <th>300</th>\n",
       "      <td>20100030</td>\n",
       "      <td>16276</td>\n",
       "      <td>2010</td>\n",
       "      <td>1/7/2010 1:00 PM</td>\n",
       "      <td>PLAINS PIPELINE, L.P.</td>\n",
       "      <td>RED RIVER EAST</td>\n",
       "      <td>ONSHORE</td>\n",
       "      <td>UNDERGROUND</td>\n",
       "      <td>CRUDE OIL</td>\n",
       "      <td>NaN</td>\n",
       "      <td>...</td>\n",
       "      <td>NaN</td>\n",
       "      <td>NaN</td>\n",
       "      <td>NaN</td>\n",
       "      <td>20000.0</td>\n",
       "      <td>150.0</td>\n",
       "      <td>0.0</td>\n",
       "      <td>7500.0</td>\n",
       "      <td>2000.0</td>\n",
       "      <td>0.0</td>\n",
       "      <td>29650</td>\n",
       "    </tr>\n",
       "  </tbody>\n",
       "</table>\n",
       "<p>5 rows × 47 columns</p>\n",
       "</div>"
      ],
      "text/plain": [
       "             Report Number  Supplemental Number  Accident Year  \\\n",
       "Operator ID                                                      \n",
       "32109             20100016                17305           2010   \n",
       "15786             20100254                17331           2010   \n",
       "20160             20100038                17747           2010   \n",
       "11169             20100260                18574           2010   \n",
       "300               20100030                16276           2010   \n",
       "\n",
       "            Accident Date/Time                         Operator Name  \\\n",
       "Operator ID                                                            \n",
       "32109         1/1/2010 7:15 AM                 ONEOK NGL PIPELINE LP   \n",
       "15786         1/4/2010 8:30 AM                PORTLAND PIPELINE CORP   \n",
       "20160        1/5/2010 10:30 AM           PETROLOGISTICS OLEFINS, LLC   \n",
       "11169         1/6/2010 7:30 PM  ENBRIDGE ENERGY, LIMITED PARTNERSHIP   \n",
       "300           1/7/2010 1:00 PM                 PLAINS PIPELINE, L.P.   \n",
       "\n",
       "            Pipeline/Facility Name Pipeline Location Pipeline Type  \\\n",
       "Operator ID                                                          \n",
       "32109            KINDER MORGAN JCT           ONSHORE   ABOVEGROUND   \n",
       "15786            24-INCH MAIN LINE           ONSHORE   ABOVEGROUND   \n",
       "20160                          NaN           ONSHORE   ABOVEGROUND   \n",
       "11169            SUPERIOR TERMINAL           ONSHORE   UNDERGROUND   \n",
       "300                 RED RIVER EAST           ONSHORE   UNDERGROUND   \n",
       "\n",
       "                                            Liquid Type  \\\n",
       "Operator ID                                               \n",
       "32109        HVL OR OTHER FLAMMABLE OR TOXIC FLUID, GAS   \n",
       "15786                                         CRUDE OIL   \n",
       "20160        HVL OR OTHER FLAMMABLE OR TOXIC FLUID, GAS   \n",
       "11169                                         CRUDE OIL   \n",
       "300                                           CRUDE OIL   \n",
       "\n",
       "                                                Liquid Subtype  ...  \\\n",
       "Operator ID                                                     ...   \n",
       "32109        LPG (LIQUEFIED PETROLEUM GAS) / NGL (NATURAL G...  ...   \n",
       "15786                                                      NaN  ...   \n",
       "20160                                                OTHER HVL  ...   \n",
       "11169                                                      NaN  ...   \n",
       "300                                                        NaN  ...   \n",
       "\n",
       "            Other Fatalities Public Fatalities All Fatalities  \\\n",
       "Operator ID                                                     \n",
       "32109                    NaN               NaN            NaN   \n",
       "15786                    NaN               NaN            NaN   \n",
       "20160                    NaN               NaN            NaN   \n",
       "11169                    NaN               NaN            NaN   \n",
       "300                      NaN               NaN            NaN   \n",
       "\n",
       "            Property Damage Costs  Lost Commodity Costs  \\\n",
       "Operator ID                                               \n",
       "32109                       110.0                1517.0   \n",
       "15786                      4000.0                   8.0   \n",
       "20160                         0.0                 200.0   \n",
       "11169                       200.0                  40.0   \n",
       "300                       20000.0                 150.0   \n",
       "\n",
       "             Public/Private Property Damage Costs Emergency Response Costs  \\\n",
       "Operator ID                                                                  \n",
       "32109                                         0.0                      0.0   \n",
       "15786                                         0.0                      0.0   \n",
       "20160                                         0.0                      0.0   \n",
       "11169                                         0.0                  11300.0   \n",
       "300                                           0.0                   7500.0   \n",
       "\n",
       "            Environmental Remediation Costs  Other Costs  All Costs  \n",
       "Operator ID                                                          \n",
       "32109                                   0.0          0.0       1627  \n",
       "15786                                   0.0          0.0       4008  \n",
       "20160                                   0.0          0.0        200  \n",
       "11169                                   0.0          0.0      11540  \n",
       "300                                  2000.0          0.0      29650  \n",
       "\n",
       "[5 rows x 47 columns]"
      ]
     },
     "execution_count": 30,
     "metadata": {},
     "output_type": "execute_result"
    }
   ],
   "source": [
    "import pandas as pd\n",
    "df=pd.read_csv(\"C:/Users/Ganesh/Desktop/Datascience/Python/Hackathon/database.csv\",index_col='Operator ID')\n",
    "df.head()\n"
   ]
  },
  {
   "cell_type": "code",
   "execution_count": 2,
   "metadata": {},
   "outputs": [
    {
     "data": {
      "text/plain": [
       "HARRIS         167\n",
       "JEFFERSON      106\n",
       "LOS ANGELES     52\n",
       "PAYNE           50\n",
       "MIDLAND         49\n",
       "              ... \n",
       "HODGEMAN         1\n",
       "BRAZORIA         1\n",
       "TARRANT          1\n",
       "LORRAIN          1\n",
       "CARSON           1\n",
       "Name: Accident County, Length: 678, dtype: int64"
      ]
     },
     "execution_count": 2,
     "metadata": {},
     "output_type": "execute_result"
    }
   ],
   "source": [
    "#df['Accident Year'].value_counts()\n",
    "df['Accident County'].value_counts()\n",
    "\n"
   ]
  },
  {
   "cell_type": "code",
   "execution_count": 3,
   "metadata": {},
   "outputs": [
    {
     "data": {
      "text/html": [
       "<div>\n",
       "<style scoped>\n",
       "    .dataframe tbody tr th:only-of-type {\n",
       "        vertical-align: middle;\n",
       "    }\n",
       "\n",
       "    .dataframe tbody tr th {\n",
       "        vertical-align: top;\n",
       "    }\n",
       "\n",
       "    .dataframe thead th {\n",
       "        text-align: right;\n",
       "    }\n",
       "</style>\n",
       "<table border=\"1\" class=\"dataframe\">\n",
       "  <thead>\n",
       "    <tr style=\"text-align: right;\">\n",
       "      <th></th>\n",
       "      <th>Report Number</th>\n",
       "      <th>Supplemental Number</th>\n",
       "      <th>Accident Year</th>\n",
       "      <th>Operator ID</th>\n",
       "      <th>Accident Latitude</th>\n",
       "      <th>Accident Longitude</th>\n",
       "      <th>Unintentional Release (Barrels)</th>\n",
       "      <th>Intentional Release (Barrels)</th>\n",
       "      <th>Liquid Recovery (Barrels)</th>\n",
       "      <th>Net Loss (Barrels)</th>\n",
       "      <th>...</th>\n",
       "      <th>Other Fatalities</th>\n",
       "      <th>Public Fatalities</th>\n",
       "      <th>All Fatalities</th>\n",
       "      <th>Property Damage Costs</th>\n",
       "      <th>Lost Commodity Costs</th>\n",
       "      <th>Public/Private Property Damage Costs</th>\n",
       "      <th>Emergency Response Costs</th>\n",
       "      <th>Environmental Remediation Costs</th>\n",
       "      <th>Other Costs</th>\n",
       "      <th>All Costs</th>\n",
       "    </tr>\n",
       "  </thead>\n",
       "  <tbody>\n",
       "    <tr>\n",
       "      <th>count</th>\n",
       "      <td>2.795000e+03</td>\n",
       "      <td>2795.000000</td>\n",
       "      <td>2795.000000</td>\n",
       "      <td>2795.000000</td>\n",
       "      <td>2795.000000</td>\n",
       "      <td>2795.000000</td>\n",
       "      <td>2795.000000</td>\n",
       "      <td>1209.000000</td>\n",
       "      <td>2795.000000</td>\n",
       "      <td>2795.000000</td>\n",
       "      <td>...</td>\n",
       "      <td>8.000000</td>\n",
       "      <td>8.000000</td>\n",
       "      <td>8.00000</td>\n",
       "      <td>2.788000e+03</td>\n",
       "      <td>2.791000e+03</td>\n",
       "      <td>2.785000e+03</td>\n",
       "      <td>2.789000e+03</td>\n",
       "      <td>2.787000e+03</td>\n",
       "      <td>2.779000e+03</td>\n",
       "      <td>2.795000e+03</td>\n",
       "    </tr>\n",
       "    <tr>\n",
       "      <th>mean</th>\n",
       "      <td>2.013293e+07</td>\n",
       "      <td>19433.319499</td>\n",
       "      <td>2013.187835</td>\n",
       "      <td>21388.476565</td>\n",
       "      <td>35.781608</td>\n",
       "      <td>-95.682691</td>\n",
       "      <td>207.245843</td>\n",
       "      <td>238.533623</td>\n",
       "      <td>75.051792</td>\n",
       "      <td>132.194050</td>\n",
       "      <td>...</td>\n",
       "      <td>0.125000</td>\n",
       "      <td>0.625000</td>\n",
       "      <td>1.25000</td>\n",
       "      <td>1.122963e+05</td>\n",
       "      <td>9.805299e+03</td>\n",
       "      <td>2.512195e+04</td>\n",
       "      <td>2.918911e+05</td>\n",
       "      <td>3.628094e+05</td>\n",
       "      <td>3.435604e+04</td>\n",
       "      <td>8.340332e+05</td>\n",
       "    </tr>\n",
       "    <tr>\n",
       "      <th>std</th>\n",
       "      <td>1.982098e+04</td>\n",
       "      <td>1724.815370</td>\n",
       "      <td>1.972102</td>\n",
       "      <td>12430.973428</td>\n",
       "      <td>5.652599</td>\n",
       "      <td>12.328430</td>\n",
       "      <td>1368.667813</td>\n",
       "      <td>2781.771453</td>\n",
       "      <td>546.188247</td>\n",
       "      <td>1185.019252</td>\n",
       "      <td>...</td>\n",
       "      <td>0.353553</td>\n",
       "      <td>0.744024</td>\n",
       "      <td>0.46291</td>\n",
       "      <td>8.709947e+05</td>\n",
       "      <td>6.384075e+04</td>\n",
       "      <td>5.243581e+05</td>\n",
       "      <td>4.617076e+06</td>\n",
       "      <td>1.206887e+07</td>\n",
       "      <td>6.191235e+05</td>\n",
       "      <td>1.657830e+07</td>\n",
       "    </tr>\n",
       "    <tr>\n",
       "      <th>min</th>\n",
       "      <td>2.010000e+07</td>\n",
       "      <td>15072.000000</td>\n",
       "      <td>2010.000000</td>\n",
       "      <td>300.000000</td>\n",
       "      <td>18.448010</td>\n",
       "      <td>-158.099930</td>\n",
       "      <td>0.000000</td>\n",
       "      <td>0.000000</td>\n",
       "      <td>0.000000</td>\n",
       "      <td>0.000000</td>\n",
       "      <td>...</td>\n",
       "      <td>0.000000</td>\n",
       "      <td>0.000000</td>\n",
       "      <td>1.00000</td>\n",
       "      <td>0.000000e+00</td>\n",
       "      <td>0.000000e+00</td>\n",
       "      <td>0.000000e+00</td>\n",
       "      <td>0.000000e+00</td>\n",
       "      <td>0.000000e+00</td>\n",
       "      <td>0.000000e+00</td>\n",
       "      <td>0.000000e+00</td>\n",
       "    </tr>\n",
       "    <tr>\n",
       "      <th>25%</th>\n",
       "      <td>2.012004e+07</td>\n",
       "      <td>17978.500000</td>\n",
       "      <td>2012.000000</td>\n",
       "      <td>11169.000000</td>\n",
       "      <td>30.909375</td>\n",
       "      <td>-100.587636</td>\n",
       "      <td>0.480000</td>\n",
       "      <td>0.000000</td>\n",
       "      <td>0.000000</td>\n",
       "      <td>0.000000</td>\n",
       "      <td>...</td>\n",
       "      <td>0.000000</td>\n",
       "      <td>0.000000</td>\n",
       "      <td>1.00000</td>\n",
       "      <td>1.000000e+02</td>\n",
       "      <td>2.000000e+01</td>\n",
       "      <td>0.000000e+00</td>\n",
       "      <td>0.000000e+00</td>\n",
       "      <td>0.000000e+00</td>\n",
       "      <td>0.000000e+00</td>\n",
       "      <td>5.039500e+03</td>\n",
       "    </tr>\n",
       "    <tr>\n",
       "      <th>50%</th>\n",
       "      <td>2.013037e+07</td>\n",
       "      <td>19502.000000</td>\n",
       "      <td>2013.000000</td>\n",
       "      <td>26041.000000</td>\n",
       "      <td>34.925440</td>\n",
       "      <td>-95.488870</td>\n",
       "      <td>2.000000</td>\n",
       "      <td>0.000000</td>\n",
       "      <td>0.740000</td>\n",
       "      <td>0.000000</td>\n",
       "      <td>...</td>\n",
       "      <td>0.000000</td>\n",
       "      <td>0.500000</td>\n",
       "      <td>1.00000</td>\n",
       "      <td>3.000000e+03</td>\n",
       "      <td>1.000000e+02</td>\n",
       "      <td>0.000000e+00</td>\n",
       "      <td>2.520000e+03</td>\n",
       "      <td>8.000000e+02</td>\n",
       "      <td>0.000000e+00</td>\n",
       "      <td>2.312900e+04</td>\n",
       "    </tr>\n",
       "    <tr>\n",
       "      <th>75%</th>\n",
       "      <td>2.015023e+07</td>\n",
       "      <td>20996.500000</td>\n",
       "      <td>2015.000000</td>\n",
       "      <td>31618.000000</td>\n",
       "      <td>40.264062</td>\n",
       "      <td>-91.089463</td>\n",
       "      <td>20.000000</td>\n",
       "      <td>0.000000</td>\n",
       "      <td>8.000000</td>\n",
       "      <td>2.000000</td>\n",
       "      <td>...</td>\n",
       "      <td>0.000000</td>\n",
       "      <td>1.000000</td>\n",
       "      <td>1.25000</td>\n",
       "      <td>2.500000e+04</td>\n",
       "      <td>7.000000e+02</td>\n",
       "      <td>0.000000e+00</td>\n",
       "      <td>1.550000e+04</td>\n",
       "      <td>1.500000e+04</td>\n",
       "      <td>0.000000e+00</td>\n",
       "      <td>1.172325e+05</td>\n",
       "    </tr>\n",
       "    <tr>\n",
       "      <th>max</th>\n",
       "      <td>2.017003e+07</td>\n",
       "      <td>22049.000000</td>\n",
       "      <td>2017.000000</td>\n",
       "      <td>99043.000000</td>\n",
       "      <td>70.261265</td>\n",
       "      <td>104.263399</td>\n",
       "      <td>30565.000000</td>\n",
       "      <td>70191.000000</td>\n",
       "      <td>18245.000000</td>\n",
       "      <td>30565.000000</td>\n",
       "      <td>...</td>\n",
       "      <td>1.000000</td>\n",
       "      <td>2.000000</td>\n",
       "      <td>2.00000</td>\n",
       "      <td>2.700000e+07</td>\n",
       "      <td>1.417839e+06</td>\n",
       "      <td>2.300000e+07</td>\n",
       "      <td>1.770000e+08</td>\n",
       "      <td>6.350000e+08</td>\n",
       "      <td>2.235000e+07</td>\n",
       "      <td>8.405261e+08</td>\n",
       "    </tr>\n",
       "  </tbody>\n",
       "</table>\n",
       "<p>8 rows × 30 columns</p>\n",
       "</div>"
      ],
      "text/plain": [
       "       Report Number  Supplemental Number  Accident Year   Operator ID  \\\n",
       "count   2.795000e+03          2795.000000    2795.000000   2795.000000   \n",
       "mean    2.013293e+07         19433.319499    2013.187835  21388.476565   \n",
       "std     1.982098e+04          1724.815370       1.972102  12430.973428   \n",
       "min     2.010000e+07         15072.000000    2010.000000    300.000000   \n",
       "25%     2.012004e+07         17978.500000    2012.000000  11169.000000   \n",
       "50%     2.013037e+07         19502.000000    2013.000000  26041.000000   \n",
       "75%     2.015023e+07         20996.500000    2015.000000  31618.000000   \n",
       "max     2.017003e+07         22049.000000    2017.000000  99043.000000   \n",
       "\n",
       "       Accident Latitude  Accident Longitude  Unintentional Release (Barrels)  \\\n",
       "count        2795.000000         2795.000000                      2795.000000   \n",
       "mean           35.781608          -95.682691                       207.245843   \n",
       "std             5.652599           12.328430                      1368.667813   \n",
       "min            18.448010         -158.099930                         0.000000   \n",
       "25%            30.909375         -100.587636                         0.480000   \n",
       "50%            34.925440          -95.488870                         2.000000   \n",
       "75%            40.264062          -91.089463                        20.000000   \n",
       "max            70.261265          104.263399                     30565.000000   \n",
       "\n",
       "       Intentional Release (Barrels)  Liquid Recovery (Barrels)  \\\n",
       "count                    1209.000000                2795.000000   \n",
       "mean                      238.533623                  75.051792   \n",
       "std                      2781.771453                 546.188247   \n",
       "min                         0.000000                   0.000000   \n",
       "25%                         0.000000                   0.000000   \n",
       "50%                         0.000000                   0.740000   \n",
       "75%                         0.000000                   8.000000   \n",
       "max                     70191.000000               18245.000000   \n",
       "\n",
       "       Net Loss (Barrels)  ...  Other Fatalities  Public Fatalities  \\\n",
       "count         2795.000000  ...          8.000000           8.000000   \n",
       "mean           132.194050  ...          0.125000           0.625000   \n",
       "std           1185.019252  ...          0.353553           0.744024   \n",
       "min              0.000000  ...          0.000000           0.000000   \n",
       "25%              0.000000  ...          0.000000           0.000000   \n",
       "50%              0.000000  ...          0.000000           0.500000   \n",
       "75%              2.000000  ...          0.000000           1.000000   \n",
       "max          30565.000000  ...          1.000000           2.000000   \n",
       "\n",
       "       All Fatalities  Property Damage Costs  Lost Commodity Costs  \\\n",
       "count         8.00000           2.788000e+03          2.791000e+03   \n",
       "mean          1.25000           1.122963e+05          9.805299e+03   \n",
       "std           0.46291           8.709947e+05          6.384075e+04   \n",
       "min           1.00000           0.000000e+00          0.000000e+00   \n",
       "25%           1.00000           1.000000e+02          2.000000e+01   \n",
       "50%           1.00000           3.000000e+03          1.000000e+02   \n",
       "75%           1.25000           2.500000e+04          7.000000e+02   \n",
       "max           2.00000           2.700000e+07          1.417839e+06   \n",
       "\n",
       "       Public/Private Property Damage Costs  Emergency Response Costs  \\\n",
       "count                          2.785000e+03              2.789000e+03   \n",
       "mean                           2.512195e+04              2.918911e+05   \n",
       "std                            5.243581e+05              4.617076e+06   \n",
       "min                            0.000000e+00              0.000000e+00   \n",
       "25%                            0.000000e+00              0.000000e+00   \n",
       "50%                            0.000000e+00              2.520000e+03   \n",
       "75%                            0.000000e+00              1.550000e+04   \n",
       "max                            2.300000e+07              1.770000e+08   \n",
       "\n",
       "       Environmental Remediation Costs   Other Costs     All Costs  \n",
       "count                     2.787000e+03  2.779000e+03  2.795000e+03  \n",
       "mean                      3.628094e+05  3.435604e+04  8.340332e+05  \n",
       "std                       1.206887e+07  6.191235e+05  1.657830e+07  \n",
       "min                       0.000000e+00  0.000000e+00  0.000000e+00  \n",
       "25%                       0.000000e+00  0.000000e+00  5.039500e+03  \n",
       "50%                       8.000000e+02  0.000000e+00  2.312900e+04  \n",
       "75%                       1.500000e+04  0.000000e+00  1.172325e+05  \n",
       "max                       6.350000e+08  2.235000e+07  8.405261e+08  \n",
       "\n",
       "[8 rows x 30 columns]"
      ]
     },
     "execution_count": 3,
     "metadata": {},
     "output_type": "execute_result"
    }
   ],
   "source": [
    "df.describe()"
   ]
  },
  {
   "cell_type": "code",
   "execution_count": 4,
   "metadata": {},
   "outputs": [
    {
     "data": {
      "text/plain": [
       "Report Number                             int64\n",
       "Supplemental Number                       int64\n",
       "Accident Year                             int64\n",
       "Accident Date/Time                       object\n",
       "Operator ID                               int64\n",
       "Operator Name                            object\n",
       "Pipeline/Facility Name                   object\n",
       "Pipeline Location                        object\n",
       "Pipeline Type                            object\n",
       "Liquid Type                              object\n",
       "Liquid Subtype                           object\n",
       "Liquid Name                              object\n",
       "Accident City                            object\n",
       "Accident County                          object\n",
       "Accident State                           object\n",
       "Accident Latitude                       float64\n",
       "Accident Longitude                      float64\n",
       "Cause Category                           object\n",
       "Cause Subcategory                        object\n",
       "Unintentional Release (Barrels)         float64\n",
       "Intentional Release (Barrels)           float64\n",
       "Liquid Recovery (Barrels)               float64\n",
       "Net Loss (Barrels)                      float64\n",
       "Liquid Ignition                          object\n",
       "Liquid Explosion                         object\n",
       "Pipeline Shutdown                        object\n",
       "Shutdown Date/Time                       object\n",
       "Restart Date/Time                        object\n",
       "Public Evacuations                      float64\n",
       "Operator Employee Injuries              float64\n",
       "Operator Contractor Injuries            float64\n",
       "Emergency Responder Injuries            float64\n",
       "Other Injuries                          float64\n",
       "Public Injuries                         float64\n",
       "All Injuries                            float64\n",
       "Operator Employee Fatalities            float64\n",
       "Operator Contractor Fatalities          float64\n",
       "Emergency Responder Fatalities          float64\n",
       "Other Fatalities                        float64\n",
       "Public Fatalities                       float64\n",
       "All Fatalities                          float64\n",
       "Property Damage Costs                   float64\n",
       "Lost Commodity Costs                    float64\n",
       "Public/Private Property Damage Costs    float64\n",
       "Emergency Response Costs                float64\n",
       "Environmental Remediation Costs         float64\n",
       "Other Costs                             float64\n",
       "All Costs                                 int64\n",
       "dtype: object"
      ]
     },
     "execution_count": 4,
     "metadata": {},
     "output_type": "execute_result"
    }
   ],
   "source": [
    "df.dtypes"
   ]
  },
  {
   "cell_type": "code",
   "execution_count": 5,
   "metadata": {
    "collapsed": true
   },
   "outputs": [
    {
     "data": {
      "application/vnd.jupyter.widget-view+json": {
       "model_id": "ecea2317f6db4a67a476a48daba3510d",
       "version_major": 2,
       "version_minor": 0
      },
      "text/plain": [
       "Tab(children=(HTML(value='<div id=\"overview-content\" class=\"row variable spacing\">\\n    <div class=\"row\">\\n   …"
      ]
     },
     "metadata": {},
     "output_type": "display_data"
    },
    {
     "data": {
      "text/html": [
       "Report generated with <a href=\"https://github.com/pandas-profiling/pandas-profiling\">pandas-profiling</a>."
      ],
      "text/plain": [
       "<IPython.core.display.HTML object>"
      ]
     },
     "metadata": {},
     "output_type": "display_data"
    },
    {
     "data": {
      "text/plain": []
     },
     "execution_count": 5,
     "metadata": {},
     "output_type": "execute_result"
    }
   ],
   "source": [
    "import pandas_profiling\n",
    "pandas_profiling.ProfileReport(df)"
   ]
  },
  {
   "cell_type": "code",
   "execution_count": null,
   "metadata": {},
   "outputs": [],
   "source": [
    "import pandas as pd \n",
    "import matplotlib.pyplot as plt\n",
    "import seaborn as sns"
   ]
  },
  {
   "cell_type": "code",
   "execution_count": 6,
   "metadata": {
    "collapsed": true
   },
   "outputs": [
    {
     "data": {
      "text/plain": [
       "Report_Number                              0\n",
       "Supplemental_Number                        0\n",
       "Accident_Year                              0\n",
       "Accident_Date/Time                         0\n",
       "Operator_ID                                0\n",
       "Operator_Name                              0\n",
       "Pipeline/Facility_Name                   121\n",
       "Pipeline_Location                          0\n",
       "Pipeline_Type                             18\n",
       "Liquid_Type                                0\n",
       "Liquid_Subtype                          1446\n",
       "Liquid_Name                             2573\n",
       "Accident_City                            315\n",
       "Accident_County                           75\n",
       "Accident_State                            12\n",
       "Accident_Latitude                          0\n",
       "Accident_Longitude                         0\n",
       "Cause_Category                             0\n",
       "Cause_Subcategory                          0\n",
       "Unintentional_Release_(Barrels)            0\n",
       "Intentional_Release_(Barrels)           1586\n",
       "Liquid_Recovery_(Barrels)                  0\n",
       "Net_Loss_(Barrels)                         0\n",
       "Liquid_Ignition                            0\n",
       "Liquid_Explosion                           0\n",
       "Pipeline_Shutdown                        212\n",
       "Shutdown_Date/Time                      1405\n",
       "Restart_Date/Time                       1454\n",
       "Public_Evacuations                       457\n",
       "Operator_Employee_Injuries              2783\n",
       "Operator_Contractor_Injuries            2783\n",
       "Emergency_Responder_Injuries            2783\n",
       "Other_Injuries                          2783\n",
       "Public_Injuries                         2783\n",
       "All_Injuries                            2783\n",
       "Operator_Employee_Fatalities            2787\n",
       "Operator_Contractor_Fatalities          2787\n",
       "Emergency_Responder_Fatalities          2787\n",
       "Other_Fatalities                        2787\n",
       "Public_Fatalities                       2787\n",
       "All_Fatalities                          2787\n",
       "Property_Damage_Costs                      7\n",
       "Lost_Commodity_Costs                       4\n",
       "Public/Private_Property_Damage_Costs      10\n",
       "Emergency_Response_Costs                   6\n",
       "Environmental_Remediation_Costs            8\n",
       "Other_Costs                               16\n",
       "All_Costs                                  0\n",
       "dtype: int64"
      ]
     },
     "execution_count": 6,
     "metadata": {},
     "output_type": "execute_result"
    }
   ],
   "source": [
    "df.isnull().sum()"
   ]
  },
  {
   "cell_type": "code",
   "execution_count": 55,
   "metadata": {},
   "outputs": [
    {
     "data": {
      "text/plain": [
       "<AxesSubplot:xlabel='Operator ID', ylabel='All Injuries'>"
      ]
     },
     "execution_count": 55,
     "metadata": {},
     "output_type": "execute_result"
    },
    {
     "data": {
      "image/png": "[encoded data removed]",
      "text/plain": [
       "<Figure size 1080x504 with 1 Axes>"
      ]
     },
     "metadata": {},
     "output_type": "display_data"
    }
   ],
   "source": [
    "import pandas as pd \n",
    "import matplotlib.pyplot as plt\n",
    "import seaborn as sns\n",
    "\n",
    "#plt.figure(figsize=(30,7))\n",
    "df=df.dropna(subset=['All Injuries'])\n",
    "plt.figure(figsize=(15,7))\n",
    "sns.barplot(data=df,x=df.index,y =df['All Injuries'],hue=df['Pipeline Type'])"
   ]
  },
  {
   "cell_type": "code",
   "execution_count": 56,
   "metadata": {},
   "outputs": [
    {
     "data": {
      "text/plain": [
       "<AxesSubplot:xlabel='Operator ID', ylabel='All Costs'>"
      ]
     },
     "execution_count": 56,
     "metadata": {},
     "output_type": "execute_result"
    },
    {
     "data": {
      "image/png": "[encoded data removed]",
      "text/plain": [
       "<Figure size 1080x504 with 1 Axes>"
      ]
     },
     "metadata": {},
     "output_type": "display_data"
    }
   ],
   "source": [
    "import pandas as pd \n",
    "import matplotlib.pyplot as plt\n",
    "import seaborn as sns\n",
    "\n",
    "#plt.figure(figsize=(30,7))\n",
    "df=df.dropna(subset=['All Costs'])\n",
    "plt.figure(figsize=(15,7))\n",
    "sns.barplot(data=df,x=df.index, y=df['All Costs'],hue=df['Pipeline Type'])"
   ]
  },
  {
   "cell_type": "code",
   "execution_count": 57,
   "metadata": {},
   "outputs": [
    {
     "data": {
      "text/plain": [
       "<AxesSubplot:xlabel='Operator ID', ylabel='Unintentional Release (Barrels)'>"
      ]
     },
     "execution_count": 57,
     "metadata": {},
     "output_type": "execute_result"
    },
    {
     "data": {
      "image/png": "[encoded data removed]",
      "text/plain": [
       "<Figure size 1080x504 with 1 Axes>"
      ]
     },
     "metadata": {},
     "output_type": "display_data"
    }
   ],
   "source": [
    "import pandas as pd \n",
    "import matplotlib.pyplot as plt\n",
    "import seaborn as sns\n",
    "\n",
    "#plt.figure(figsize=(30,7))\n",
    "df=df.dropna(subset=['Unintentional Release (Barrels)'])\n",
    "plt.figure(figsize=(15,7))\n",
    "sns.barplot(data=df,x=df.index, y=df['Unintentional Release (Barrels)'],hue=df['Pipeline Type'])"
   ]
  },
  {
   "cell_type": "code",
   "execution_count": 58,
   "metadata": {},
   "outputs": [
    {
     "data": {
      "text/plain": [
       "<AxesSubplot:xlabel='Operator ID', ylabel='Net Loss (Barrels)'>"
      ]
     },
     "execution_count": 58,
     "metadata": {},
     "output_type": "execute_result"
    },
    {
     "data": {
      "image/png": "[encoded data removed]",
      "text/plain": [
       "<Figure size 1080x504 with 1 Axes>"
      ]
     },
     "metadata": {},
     "output_type": "display_data"
    }
   ],
   "source": [
    "import pandas as pd \n",
    "import matplotlib.pyplot as plt\n",
    "import seaborn as sns\n",
    "\n",
    "#plt.figure(figsize=(30,7))\n",
    "df=df.dropna(subset=['Net Loss (Barrels)'])\n",
    "plt.figure(figsize=(15,7))\n",
    "sns.barplot(data=df,x=df.index, y=df['Net Loss (Barrels)'],hue=df['Pipeline Type'])"
   ]
  },
  {
   "cell_type": "code",
   "execution_count": 54,
   "metadata": {},
   "outputs": [
    {
     "data": {
      "text/plain": [
       "<AxesSubplot:xlabel='Operator ID', ylabel='All Fatalities'>"
      ]
     },
     "execution_count": 54,
     "metadata": {},
     "output_type": "execute_result"
    },
    {
     "data": {
      "image/png": "[encoded data removed]",
      "text/plain": [
       "<Figure size 1080x504 with 1 Axes>"
      ]
     },
     "metadata": {},
     "output_type": "display_data"
    }
   ],
   "source": [
    "import pandas as pd \n",
    "import matplotlib.pyplot as plt\n",
    "import seaborn as sns\n",
    "\n",
    "#plt.figure(figsize=(30,7))\n",
    "df=df.dropna(subset=['All Fatalities'])\n",
    "plt.figure(figsize=(15,7))\n",
    "sns.barplot(data=df,x=df.index, y=df['All Fatalities'],hue=df['Pipeline Type'])"
   ]
  },
  {
   "cell_type": "code",
   "execution_count": 52,
   "metadata": {},
   "outputs": [
    {
     "data": {
      "text/plain": [
       "<AxesSubplot:xlabel='Operator ID', ylabel='Intentional Release (Barrels)'>"
      ]
     },
     "execution_count": 52,
     "metadata": {},
     "output_type": "execute_result"
    },
    {
     "data": {
      "image/png": "[encoded data removed]",
      "text/plain": [
       "<Figure size 1080x504 with 1 Axes>"
      ]
     },
     "metadata": {},
     "output_type": "display_data"
    }
   ],
   "source": [
    "import pandas as pd \n",
    "import matplotlib.pyplot as plt\n",
    "import seaborn as sns\n",
    "\n",
    "#plt.figure(figsize=(30,7))\n",
    "df=df.dropna(subset=['Intentional Release (Barrels)'])\n",
    "plt.figure(figsize=(15,7))\n",
    "sns.barplot(data=df,x=df.index, y=df['Intentional Release (Barrels)'])"
   ]
  }
 ],
 "metadata": {
  "kernelspec": {
   "display_name": "Python 3",
   "language": "python",
   "name": "python3"
  },
  "language_info": {
   "codemirror_mode": {
    "name": "ipython",
    "version": 3
   },
   "file_extension": ".py",
   "mimetype": "text/x-python",
   "name": "python",
   "nbconvert_exporter": "python",
   "pygments_lexer": "ipython3",
   "version": "3.7.6"
  }
 },
 "nbformat": 4,
 "nbformat_minor": 4
}
